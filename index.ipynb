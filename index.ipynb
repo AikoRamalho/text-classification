{
 "cells": [
  {
   "cell_type": "code",
   "execution_count": 254,
   "metadata": {},
   "outputs": [
    {
     "name": "stdout",
     "output_type": "stream",
     "text": [
      "There are 10000 datasets in the hub\n",
      "Here are the first 10: ['acronym_identification', 'ade_corpus_v2', 'adversarial_qa', 'aeslc', 'afrikaans_ner_corpus', 'ag_news', 'ai2_arc', 'air_dialogue', 'ajgt_twitter_ar', 'allegro_reviews']\n"
     ]
    }
   ],
   "source": [
    "from datasets import list_datasets\n",
    "\n",
    "all_datasets = list_datasets()\n",
    "print(f\"There are {len(all_datasets)} datasets in the hub\")\n",
    "print(f\"Here are the first 10: {all_datasets[:10]}\")"
   ]
  },
  {
   "cell_type": "code",
   "execution_count": 255,
   "metadata": {},
   "outputs": [
    {
     "name": "stderr",
     "output_type": "stream",
     "text": [
      "Using the latest cached version of the module from /Users/petropolis/.cache/huggingface/modules/datasets_modules/datasets/emotion/cca5efe2dfeb58c1d098e0f9eeb200e9927d889b5a03c67097275dfb5fe463bd (last modified on Mon Apr 10 02:52:09 2023) since it couldn't be found locally at emotion., or remotely on the Hugging Face Hub.\n"
     ]
    },
    {
     "name": "stderr",
     "output_type": "stream",
     "text": [
      "No config specified, defaulting to: emotion/split\n",
      "Found cached dataset emotion (/Users/petropolis/.cache/huggingface/datasets/emotion/split/1.0.0/cca5efe2dfeb58c1d098e0f9eeb200e9927d889b5a03c67097275dfb5fe463bd)\n"
     ]
    },
    {
     "data": {
      "application/vnd.jupyter.widget-view+json": {
       "model_id": "95c6c1af04d7445eb57381ccb2d3624d",
       "version_major": 2,
       "version_minor": 0
      },
      "text/plain": [
       "  0%|          | 0/3 [00:00<?, ?it/s]"
      ]
     },
     "metadata": {},
     "output_type": "display_data"
    }
   ],
   "source": [
    "from datasets import load_dataset\n",
    "\n",
    "emotions = load_dataset(\"emotion\")"
   ]
  },
  {
   "cell_type": "code",
   "execution_count": 256,
   "metadata": {},
   "outputs": [
    {
     "data": {
      "text/plain": [
       "DatasetDict({\n",
       "    train: Dataset({\n",
       "        features: ['text', 'label'],\n",
       "        num_rows: 16000\n",
       "    })\n",
       "    validation: Dataset({\n",
       "        features: ['text', 'label'],\n",
       "        num_rows: 2000\n",
       "    })\n",
       "    test: Dataset({\n",
       "        features: ['text', 'label'],\n",
       "        num_rows: 2000\n",
       "    })\n",
       "})"
      ]
     },
     "execution_count": 256,
     "metadata": {},
     "output_type": "execute_result"
    }
   ],
   "source": [
    "emotions"
   ]
  },
  {
   "cell_type": "code",
   "execution_count": 257,
   "metadata": {},
   "outputs": [
    {
     "data": {
      "text/plain": [
       "Dataset({\n",
       "    features: ['text', 'label'],\n",
       "    num_rows: 16000\n",
       "})"
      ]
     },
     "execution_count": 257,
     "metadata": {},
     "output_type": "execute_result"
    }
   ],
   "source": [
    "train_ds = emotions[\"train\"]\n",
    "train_ds"
   ]
  },
  {
   "cell_type": "code",
   "execution_count": 258,
   "metadata": {},
   "outputs": [
    {
     "data": {
      "text/plain": [
       "{'text': 'i didnt feel humiliated', 'label': 0}"
      ]
     },
     "execution_count": 258,
     "metadata": {},
     "output_type": "execute_result"
    }
   ],
   "source": [
    "train_ds[0]"
   ]
  },
  {
   "cell_type": "code",
   "execution_count": 259,
   "metadata": {},
   "outputs": [
    {
     "data": {
      "text/plain": [
       "['text', 'label']"
      ]
     },
     "execution_count": 259,
     "metadata": {},
     "output_type": "execute_result"
    }
   ],
   "source": [
    "train_ds.column_names"
   ]
  },
  {
   "cell_type": "code",
   "execution_count": 260,
   "metadata": {},
   "outputs": [
    {
     "data": {
      "text/plain": [
       "{'text': Value(dtype='string', id=None),\n",
       " 'label': ClassLabel(names=['sadness', 'joy', 'love', 'anger', 'fear', 'surprise'], id=None)}"
      ]
     },
     "execution_count": 260,
     "metadata": {},
     "output_type": "execute_result"
    }
   ],
   "source": [
    "train_ds.features"
   ]
  },
  {
   "attachments": {},
   "cell_type": "markdown",
   "metadata": {},
   "source": [
    "Podemos ver que o data type da coluna \"text\" é string, enquanto a coluna \"label\" é um objeto ClassLabel que contém informações sobre os nomes das classes e seus mapping para um valor inteiro"
   ]
  },
  {
   "cell_type": "code",
   "execution_count": 261,
   "metadata": {},
   "outputs": [
    {
     "data": {
      "text/plain": [
       "{'text': ['i didnt feel humiliated',\n",
       "  'i can go from feeling so hopeless to so damned hopeful just from being around someone who cares and is awake',\n",
       "  'im grabbing a minute to post i feel greedy wrong',\n",
       "  'i am ever feeling nostalgic about the fireplace i will know that it is still on the property',\n",
       "  'i am feeling grouchy'],\n",
       " 'label': [0, 0, 3, 2, 3]}"
      ]
     },
     "execution_count": 261,
     "metadata": {},
     "output_type": "execute_result"
    }
   ],
   "source": [
    "train_ds[:5]"
   ]
  },
  {
   "cell_type": "code",
   "execution_count": 262,
   "metadata": {},
   "outputs": [
    {
     "data": {
      "text/plain": [
       "['i didnt feel humiliated',\n",
       " 'i can go from feeling so hopeless to so damned hopeful just from being around someone who cares and is awake',\n",
       " 'im grabbing a minute to post i feel greedy wrong',\n",
       " 'i am ever feeling nostalgic about the fireplace i will know that it is still on the property',\n",
       " 'i am feeling grouchy']"
      ]
     },
     "execution_count": 262,
     "metadata": {},
     "output_type": "execute_result"
    }
   ],
   "source": [
    "train_ds[\"text\"][:5]"
   ]
  },
  {
   "attachments": {},
   "cell_type": "markdown",
   "metadata": {},
   "source": [
    "Nosso dataset real não estará no Hub, então precisaríamos carregá-lo de outra forma, felizmente o HuggingFace Dataset fornece uma forma fácil de carregar datasets localmente através da funcão:\n",
    "\n",
    "load_dataset(\"csv\", datafiles=\"my_file.csv\")"
   ]
  },
  {
   "attachments": {},
   "cell_type": "markdown",
   "metadata": {},
   "source": [
    "Convenientemente o HugginFace fornece uma maneira de converter o formato de output do dataset. Vale ressaltar que isso não modifica o formato dos dados, só seu formato de exibição"
   ]
  },
  {
   "cell_type": "code",
   "execution_count": 263,
   "metadata": {},
   "outputs": [
    {
     "data": {
      "text/html": [
       "<div>\n",
       "<style scoped>\n",
       "    .dataframe tbody tr th:only-of-type {\n",
       "        vertical-align: middle;\n",
       "    }\n",
       "\n",
       "    .dataframe tbody tr th {\n",
       "        vertical-align: top;\n",
       "    }\n",
       "\n",
       "    .dataframe thead th {\n",
       "        text-align: right;\n",
       "    }\n",
       "</style>\n",
       "<table border=\"1\" class=\"dataframe\">\n",
       "  <thead>\n",
       "    <tr style=\"text-align: right;\">\n",
       "      <th></th>\n",
       "      <th>text</th>\n",
       "      <th>label</th>\n",
       "    </tr>\n",
       "  </thead>\n",
       "  <tbody>\n",
       "    <tr>\n",
       "      <th>0</th>\n",
       "      <td>i didnt feel humiliated</td>\n",
       "      <td>0</td>\n",
       "    </tr>\n",
       "    <tr>\n",
       "      <th>1</th>\n",
       "      <td>i can go from feeling so hopeless to so damned hopeful just from being around someone who cares and is awake</td>\n",
       "      <td>0</td>\n",
       "    </tr>\n",
       "    <tr>\n",
       "      <th>2</th>\n",
       "      <td>im grabbing a minute to post i feel greedy wrong</td>\n",
       "      <td>3</td>\n",
       "    </tr>\n",
       "    <tr>\n",
       "      <th>3</th>\n",
       "      <td>i am ever feeling nostalgic about the fireplace i will know that it is still on the property</td>\n",
       "      <td>2</td>\n",
       "    </tr>\n",
       "    <tr>\n",
       "      <th>4</th>\n",
       "      <td>i am feeling grouchy</td>\n",
       "      <td>3</td>\n",
       "    </tr>\n",
       "  </tbody>\n",
       "</table>\n",
       "</div>"
      ],
      "text/plain": [
       "                                                                                                           text   \n",
       "0                                                                                       i didnt feel humiliated  \\\n",
       "1  i can go from feeling so hopeless to so damned hopeful just from being around someone who cares and is awake   \n",
       "2                                                              im grabbing a minute to post i feel greedy wrong   \n",
       "3                  i am ever feeling nostalgic about the fireplace i will know that it is still on the property   \n",
       "4                                                                                          i am feeling grouchy   \n",
       "\n",
       "   label  \n",
       "0      0  \n",
       "1      0  \n",
       "2      3  \n",
       "3      2  \n",
       "4      3  "
      ]
     },
     "execution_count": 263,
     "metadata": {},
     "output_type": "execute_result"
    }
   ],
   "source": [
    "import pandas as pd\n",
    "\n",
    "emotions.set_format(\"pandas\")\n",
    "df = emotions[\"train\"].to_pandas()\n",
    "df.head()"
   ]
  },
  {
   "attachments": {},
   "cell_type": "markdown",
   "metadata": {},
   "source": [
    "Como é bastante incoviniente lembrar qual número inteiro está associado a cada emoção, a label feature implementa também um método int2str para converter o inteiro para seu nome correspondente."
   ]
  },
  {
   "cell_type": "code",
   "execution_count": 264,
   "metadata": {},
   "outputs": [
    {
     "ename": "KeyboardInterrupt",
     "evalue": "",
     "output_type": "error",
     "traceback": [
      "\u001b[0;31m---------------------------------------------------------------------------\u001b[0m",
      "\u001b[0;31mKeyboardInterrupt\u001b[0m                         Traceback (most recent call last)",
      "Cell \u001b[0;32mIn[264], line 4\u001b[0m\n\u001b[1;32m      1\u001b[0m \u001b[39mdef\u001b[39;00m \u001b[39mlabel_int2str\u001b[39m(row):\n\u001b[1;32m      2\u001b[0m   \u001b[39mreturn\u001b[39;00m emotions[\u001b[39m\"\u001b[39m\u001b[39mtrain\u001b[39m\u001b[39m\"\u001b[39m]\u001b[39m.\u001b[39mfeatures[\u001b[39m\"\u001b[39m\u001b[39mlabel\u001b[39m\u001b[39m\"\u001b[39m]\u001b[39m.\u001b[39mint2str(row)\n\u001b[0;32m----> 4\u001b[0m df[\u001b[39m\"\u001b[39m\u001b[39mlabel_name\u001b[39m\u001b[39m\"\u001b[39m] \u001b[39m=\u001b[39m df[\u001b[39m\"\u001b[39;49m\u001b[39mlabel\u001b[39;49m\u001b[39m\"\u001b[39;49m]\u001b[39m.\u001b[39;49mapply(label_int2str)\n\u001b[1;32m      5\u001b[0m df\u001b[39m.\u001b[39mhead()\n",
      "File \u001b[0;32m~/Library/Python/3.9/lib/python/site-packages/pandas/core/series.py:4631\u001b[0m, in \u001b[0;36mSeries.apply\u001b[0;34m(self, func, convert_dtype, args, **kwargs)\u001b[0m\n\u001b[1;32m   4521\u001b[0m \u001b[39mdef\u001b[39;00m \u001b[39mapply\u001b[39m(\n\u001b[1;32m   4522\u001b[0m     \u001b[39mself\u001b[39m,\n\u001b[1;32m   4523\u001b[0m     func: AggFuncType,\n\u001b[0;32m   (...)\u001b[0m\n\u001b[1;32m   4526\u001b[0m     \u001b[39m*\u001b[39m\u001b[39m*\u001b[39mkwargs,\n\u001b[1;32m   4527\u001b[0m ) \u001b[39m-\u001b[39m\u001b[39m>\u001b[39m DataFrame \u001b[39m|\u001b[39m Series:\n\u001b[1;32m   4528\u001b[0m \u001b[39m    \u001b[39m\u001b[39m\"\"\"\u001b[39;00m\n\u001b[1;32m   4529\u001b[0m \u001b[39m    Invoke function on values of Series.\u001b[39;00m\n\u001b[1;32m   4530\u001b[0m \n\u001b[0;32m   (...)\u001b[0m\n\u001b[1;32m   4629\u001b[0m \u001b[39m    dtype: float64\u001b[39;00m\n\u001b[1;32m   4630\u001b[0m \u001b[39m    \"\"\"\u001b[39;00m\n\u001b[0;32m-> 4631\u001b[0m     \u001b[39mreturn\u001b[39;00m SeriesApply(\u001b[39mself\u001b[39;49m, func, convert_dtype, args, kwargs)\u001b[39m.\u001b[39;49mapply()\n",
      "File \u001b[0;32m~/Library/Python/3.9/lib/python/site-packages/pandas/core/apply.py:1025\u001b[0m, in \u001b[0;36mSeriesApply.apply\u001b[0;34m(self)\u001b[0m\n\u001b[1;32m   1022\u001b[0m     \u001b[39mreturn\u001b[39;00m \u001b[39mself\u001b[39m\u001b[39m.\u001b[39mapply_str()\n\u001b[1;32m   1024\u001b[0m \u001b[39m# self.f is Callable\u001b[39;00m\n\u001b[0;32m-> 1025\u001b[0m \u001b[39mreturn\u001b[39;00m \u001b[39mself\u001b[39;49m\u001b[39m.\u001b[39;49mapply_standard()\n",
      "File \u001b[0;32m~/Library/Python/3.9/lib/python/site-packages/pandas/core/apply.py:1076\u001b[0m, in \u001b[0;36mSeriesApply.apply_standard\u001b[0;34m(self)\u001b[0m\n\u001b[1;32m   1074\u001b[0m     \u001b[39melse\u001b[39;00m:\n\u001b[1;32m   1075\u001b[0m         values \u001b[39m=\u001b[39m obj\u001b[39m.\u001b[39mastype(\u001b[39mobject\u001b[39m)\u001b[39m.\u001b[39m_values\n\u001b[0;32m-> 1076\u001b[0m         mapped \u001b[39m=\u001b[39m lib\u001b[39m.\u001b[39;49mmap_infer(\n\u001b[1;32m   1077\u001b[0m             values,\n\u001b[1;32m   1078\u001b[0m             f,\n\u001b[1;32m   1079\u001b[0m             convert\u001b[39m=\u001b[39;49m\u001b[39mself\u001b[39;49m\u001b[39m.\u001b[39;49mconvert_dtype,\n\u001b[1;32m   1080\u001b[0m         )\n\u001b[1;32m   1082\u001b[0m \u001b[39mif\u001b[39;00m \u001b[39mlen\u001b[39m(mapped) \u001b[39mand\u001b[39;00m \u001b[39misinstance\u001b[39m(mapped[\u001b[39m0\u001b[39m], ABCSeries):\n\u001b[1;32m   1083\u001b[0m     \u001b[39m# GH#43986 Need to do list(mapped) in order to get treated as nested\u001b[39;00m\n\u001b[1;32m   1084\u001b[0m     \u001b[39m#  See also GH#25959 regarding EA support\u001b[39;00m\n\u001b[1;32m   1085\u001b[0m     \u001b[39mreturn\u001b[39;00m obj\u001b[39m.\u001b[39m_constructor_expanddim(\u001b[39mlist\u001b[39m(mapped), index\u001b[39m=\u001b[39mobj\u001b[39m.\u001b[39mindex)\n",
      "File \u001b[0;32m~/Library/Python/3.9/lib/python/site-packages/pandas/_libs/lib.pyx:2834\u001b[0m, in \u001b[0;36mpandas._libs.lib.map_infer\u001b[0;34m()\u001b[0m\n",
      "Cell \u001b[0;32mIn[264], line 2\u001b[0m, in \u001b[0;36mlabel_int2str\u001b[0;34m(row)\u001b[0m\n\u001b[1;32m      1\u001b[0m \u001b[39mdef\u001b[39;00m \u001b[39mlabel_int2str\u001b[39m(row):\n\u001b[0;32m----> 2\u001b[0m   \u001b[39mreturn\u001b[39;00m emotions[\u001b[39m\"\u001b[39;49m\u001b[39mtrain\u001b[39;49m\u001b[39m\"\u001b[39;49m]\u001b[39m.\u001b[39mfeatures[\u001b[39m\"\u001b[39m\u001b[39mlabel\u001b[39m\u001b[39m\"\u001b[39m]\u001b[39m.\u001b[39mint2str(row)\n",
      "File \u001b[0;32m~/Library/Python/3.9/lib/python/site-packages/datasets/dataset_dict.py:57\u001b[0m, in \u001b[0;36mDatasetDict.__getitem__\u001b[0;34m(self, k)\u001b[0m\n\u001b[1;32m     55\u001b[0m \u001b[39mdef\u001b[39;00m \u001b[39m__getitem__\u001b[39m(\u001b[39mself\u001b[39m, k) \u001b[39m-\u001b[39m\u001b[39m>\u001b[39m Dataset:\n\u001b[1;32m     56\u001b[0m     \u001b[39mif\u001b[39;00m \u001b[39misinstance\u001b[39m(k, (\u001b[39mstr\u001b[39m, NamedSplit)) \u001b[39mor\u001b[39;00m \u001b[39mlen\u001b[39m(\u001b[39mself\u001b[39m) \u001b[39m==\u001b[39m \u001b[39m0\u001b[39m:\n\u001b[0;32m---> 57\u001b[0m         \u001b[39mreturn\u001b[39;00m \u001b[39msuper\u001b[39;49m()\u001b[39m.\u001b[39m\u001b[39m__getitem__\u001b[39m(k)\n\u001b[1;32m     58\u001b[0m     \u001b[39melse\u001b[39;00m:\n\u001b[1;32m     59\u001b[0m         available_suggested_splits \u001b[39m=\u001b[39m [\n\u001b[1;32m     60\u001b[0m             split \u001b[39mfor\u001b[39;00m split \u001b[39min\u001b[39;00m (Split\u001b[39m.\u001b[39mTRAIN, Split\u001b[39m.\u001b[39mTEST, Split\u001b[39m.\u001b[39mVALIDATION) \u001b[39mif\u001b[39;00m split \u001b[39min\u001b[39;00m \u001b[39mself\u001b[39m\n\u001b[1;32m     61\u001b[0m         ]\n",
      "\u001b[0;31mKeyboardInterrupt\u001b[0m: "
     ]
    }
   ],
   "source": [
    "def label_int2str(row):\n",
    "  return emotions[\"train\"].features[\"label\"].int2str(row)\n",
    "\n",
    "df[\"label_name\"] = df[\"label\"].apply(label_int2str)\n",
    "df.head()"
   ]
  },
  {
   "attachments": {},
   "cell_type": "markdown",
   "metadata": {},
   "source": [
    "É sempre uma boa ideia examinar a distribuição dos exemplos entre o dataset. Um dataset com uma distribuição enviesada pode precisar de um tratamento diferente em termos de traning loss e métricas de evaluation comparado a um dataset balanceado."
   ]
  },
  {
   "cell_type": "code",
   "execution_count": null,
   "metadata": {},
   "outputs": [],
   "source": [
    "import matplotlib.pyplot as plt\n",
    "%matplotlib inline\n",
    "\n",
    "\n",
    "counts = df[\"label_name\"].value_counts(ascending=True)"
   ]
  },
  {
   "cell_type": "code",
   "execution_count": null,
   "metadata": {},
   "outputs": [
    {
     "data": {
      "text/plain": [
       "label_name\n",
       "surprise     572\n",
       "love        1304\n",
       "fear        1937\n",
       "anger       2159\n",
       "sadness     4666\n",
       "joy         5362\n",
       "Name: count, dtype: int64"
      ]
     },
     "execution_count": 79,
     "metadata": {},
     "output_type": "execute_result"
    }
   ],
   "source": [
    "counts"
   ]
  },
  {
   "cell_type": "code",
   "execution_count": null,
   "metadata": {},
   "outputs": [
    {
     "data": {
      "image/png": "[encoded data removed]",
      "text/plain": [
       "<Figure size 640x480 with 1 Axes>"
      ]
     },
     "metadata": {},
     "output_type": "display_data"
    }
   ],
   "source": [
    "plt.barh(counts.index, counts.values)\n",
    "plt.title(\"Emotion Distribution\")\n",
    "plt.show()"
   ]
  },
  {
   "attachments": {},
   "cell_type": "markdown",
   "metadata": {},
   "source": [
    "Podemos ver que o dataset está pesadamente desbalanceado. As classes \"joy\" and \"sadness\" aparecerem frequentemente, enquanto \"love\" e \"surprise\" são cerca de 5 a 10 vezes mais raras.\n",
    "Existem diversas maneiras de lidar com datasets desbalanceados, incluindo:\n",
    "\n",
    "- Sobreamostrar aleatoriamente as classes minoritárias.\n",
    "- Subamostrar aleatoriamente as classes majoritárias.\n",
    "- Reunir mais dados rotulados das classes subrepresentadas.\n",
    "\n",
    "Por agora iremos trabalhar com o dataset desbalanceado, porém iremos revisitar esse ponto no futuro."
   ]
  },
  {
   "attachments": {},
   "cell_type": "markdown",
   "metadata": {},
   "source": [
    "# O quão longo são nossos tuítes?"
   ]
  },
  {
   "attachments": {},
   "cell_type": "markdown",
   "metadata": {},
   "source": [
    "Os modelos que implementam Transformers tem um máximo de sequência de input que é conhecido como _maxium context size_, para aplicações que implementam o DistilBERT, o _maximum context size_ é de 512 tokens, que somam alguns parágrafos de texto. Mais para frente iremos discutir o que são tokens, mas por agora podemos considerar 1 token = 1 char."
   ]
  },
  {
   "cell_type": "code",
   "execution_count": null,
   "metadata": {},
   "outputs": [
    {
     "data": {
      "image/png": "[encoded data removed]",
      "text/plain": [
       "<Figure size 640x480 with 1 Axes>"
      ]
     },
     "metadata": {},
     "output_type": "display_data"
    }
   ],
   "source": [
    "df[\"Words per Tweet\"] = df[\"text\"].str.split().apply(len)\n",
    "df.boxplot(column=\"Words per Tweet\", by=\"label_name\", grid=False, showfliers=False, color=\"black\")\n",
    "plt.suptitle(\"\")\n",
    "plt.xlabel(\"\")\n",
    "plt.show()"
   ]
  },
  {
   "attachments": {},
   "cell_type": "markdown",
   "metadata": {},
   "source": [
    "Pelo plot podemos observar que para cada emoção, cada tuíte contém por volta de 15 palavras, e os tuítes mais longos estão bem abaixo do limite do DistilBERT. Textos que são maiores que o _maximum context size_ de um modelo precisam ser truncados, o que pode levar a uma perda de performance se o texto truncado conter informações cruciais."
   ]
  },
  {
   "attachments": {},
   "cell_type": "markdown",
   "metadata": {},
   "source": [
    "# Do texto para Tokens"
   ]
  },
  {
   "attachments": {},
   "cell_type": "markdown",
   "metadata": {},
   "source": [
    "Modelos que implementam Transformers como o DistilBERT não podem receber strings cruas como input. Esses modelos assumem que o texto foi tokenizado e encoded como vetores numéricos. Tokenizacão é o processo de quebrar as strings em unidades atômicas para serem usadas no modelo. Existem diversas estratégias de tokenização, e a melhor estratégia é geralmente aprendidada pelo corpus. Antes de olhar o tokenizador que é usado pelo distilbert, faremos um breve comentário sobre duas estratégias extremas de tokenização: \"Character\" e \"Word\" tokenization."
   ]
  },
  {
   "cell_type": "code",
   "execution_count": null,
   "metadata": {},
   "outputs": [
    {
     "name": "stdout",
     "output_type": "stream",
     "text": [
      "['T', 'o', 'k', 'e', 'n', 'i', 'z', 'i', 'n', 'g', ' ', 't', 'e', 'x', 't', ' ', 'i', 's', ' ', 'a', ' ', 'c', 'o', 'r', 'e', ' ', 't', 'a', 's', 'k', ' ', 'o', 'f', ' ', 'N', 'L', 'P', '.']\n"
     ]
    }
   ],
   "source": [
    "text = \"Tokenizing text is a core task of NLP.\"\n",
    "tokenized_text = list(text)\n",
    "print(tokenized_text)"
   ]
  },
  {
   "cell_type": "code",
   "execution_count": null,
   "metadata": {},
   "outputs": [
    {
     "name": "stdout",
     "output_type": "stream",
     "text": [
      "{' ': 0, '.': 1, 'L': 2, 'N': 3, 'P': 4, 'T': 5, 'a': 6, 'c': 7, 'e': 8, 'f': 9, 'g': 10, 'i': 11, 'k': 12, 'n': 13, 'o': 14, 'r': 15, 's': 16, 't': 17, 'x': 18, 'z': 19}\n"
     ]
    }
   ],
   "source": [
    "token2idx = {ch: idx for idx, ch in enumerate(sorted(set(tokenized_text)))}\n",
    "print(token2idx)"
   ]
  },
  {
   "cell_type": "code",
   "execution_count": null,
   "metadata": {},
   "outputs": [
    {
     "name": "stdout",
     "output_type": "stream",
     "text": [
      "[5, 14, 12, 8, 13, 11, 19, 11, 13, 10, 0, 17, 8, 18, 17, 0, 11, 16, 0, 6, 0, 7, 14, 15, 8, 0, 17, 6, 16, 12, 0, 14, 9, 0, 3, 2, 4, 1]\n"
     ]
    }
   ],
   "source": [
    "input_ids = [token2idx[token] for token in tokenized_text]\n",
    "print(input_ids)"
   ]
  },
  {
   "attachments": {},
   "cell_type": "markdown",
   "metadata": {},
   "source": [
    "Cada token foi mapeado para um identificador numérico. O último passo então é converter os inputs_ids para um tensor 2D de one-hot-vectors. One-hot vectors são frequentemente usados no mundo do machine learning para codificar dados de categoria, que podem ser ordinais ou nominais."
   ]
  },
  {
   "attachments": {},
   "cell_type": "markdown",
   "metadata": {},
   "source": [
    "Supondo que a gente quisesse codificar os nomes das personagens do filme Transformers, uma maneira de fazer isso seria:"
   ]
  },
  {
   "cell_type": "code",
   "execution_count": null,
   "metadata": {},
   "outputs": [
    {
     "data": {
      "text/html": [
       "<div>\n",
       "<style scoped>\n",
       "    .dataframe tbody tr th:only-of-type {\n",
       "        vertical-align: middle;\n",
       "    }\n",
       "\n",
       "    .dataframe tbody tr th {\n",
       "        vertical-align: top;\n",
       "    }\n",
       "\n",
       "    .dataframe thead th {\n",
       "        text-align: right;\n",
       "    }\n",
       "</style>\n",
       "<table border=\"1\" class=\"dataframe\">\n",
       "  <thead>\n",
       "    <tr style=\"text-align: right;\">\n",
       "      <th></th>\n",
       "      <th>Name</th>\n",
       "      <th>Label ID</th>\n",
       "    </tr>\n",
       "  </thead>\n",
       "  <tbody>\n",
       "    <tr>\n",
       "      <th>0</th>\n",
       "      <td>Bumblebee</td>\n",
       "      <td>0</td>\n",
       "    </tr>\n",
       "    <tr>\n",
       "      <th>1</th>\n",
       "      <td>Optimus Prime</td>\n",
       "      <td>1</td>\n",
       "    </tr>\n",
       "    <tr>\n",
       "      <th>2</th>\n",
       "      <td>Megatron</td>\n",
       "      <td>2</td>\n",
       "    </tr>\n",
       "  </tbody>\n",
       "</table>\n",
       "</div>"
      ],
      "text/plain": [
       "            Name  Label ID\n",
       "0      Bumblebee         0\n",
       "1  Optimus Prime         1\n",
       "2       Megatron         2"
      ]
     },
     "execution_count": 85,
     "metadata": {},
     "output_type": "execute_result"
    }
   ],
   "source": [
    "categorical_df = pd.DataFrame(\n",
    " {\"Name\": [\"Bumblebee\", \"Optimus Prime\", \"Megatron\"], \"Label ID\": [0,1,2]})\n",
    "categorical_df"
   ]
  },
  {
   "attachments": {},
   "cell_type": "markdown",
   "metadata": {},
   "source": [
    "O problema com esse approach é que cria uma ordem fictícia entre os nomes, e redes neurais são verdadeiramente muito boas em aprender esse tipo de relação. Então, criamos simplesmente uma nova coluna para cada categoria e atribuimos 1 onde a categoria é verdadeira, e 0 onde ela é falsa. No Pandas, isso pode ser implementado com auxílio da função get_dummies()."
   ]
  },
  {
   "cell_type": "code",
   "execution_count": null,
   "metadata": {},
   "outputs": [
    {
     "data": {
      "text/html": [
       "<div>\n",
       "<style scoped>\n",
       "    .dataframe tbody tr th:only-of-type {\n",
       "        vertical-align: middle;\n",
       "    }\n",
       "\n",
       "    .dataframe tbody tr th {\n",
       "        vertical-align: top;\n",
       "    }\n",
       "\n",
       "    .dataframe thead th {\n",
       "        text-align: right;\n",
       "    }\n",
       "</style>\n",
       "<table border=\"1\" class=\"dataframe\">\n",
       "  <thead>\n",
       "    <tr style=\"text-align: right;\">\n",
       "      <th></th>\n",
       "      <th>Bumblebee</th>\n",
       "      <th>Megatron</th>\n",
       "      <th>Optimus Prime</th>\n",
       "    </tr>\n",
       "  </thead>\n",
       "  <tbody>\n",
       "    <tr>\n",
       "      <th>0</th>\n",
       "      <td>True</td>\n",
       "      <td>False</td>\n",
       "      <td>False</td>\n",
       "    </tr>\n",
       "    <tr>\n",
       "      <th>1</th>\n",
       "      <td>False</td>\n",
       "      <td>False</td>\n",
       "      <td>True</td>\n",
       "    </tr>\n",
       "    <tr>\n",
       "      <th>2</th>\n",
       "      <td>False</td>\n",
       "      <td>True</td>\n",
       "      <td>False</td>\n",
       "    </tr>\n",
       "  </tbody>\n",
       "</table>\n",
       "</div>"
      ],
      "text/plain": [
       "   Bumblebee  Megatron  Optimus Prime\n",
       "0       True     False          False\n",
       "1      False     False           True\n",
       "2      False      True          False"
      ]
     },
     "execution_count": 86,
     "metadata": {},
     "output_type": "execute_result"
    }
   ],
   "source": [
    "pd.get_dummies(categorical_df[\"Name\"])"
   ]
  },
  {
   "cell_type": "code",
   "execution_count": null,
   "metadata": {},
   "outputs": [
    {
     "data": {
      "text/html": [
       "<div>\n",
       "<style scoped>\n",
       "    .dataframe tbody tr th:only-of-type {\n",
       "        vertical-align: middle;\n",
       "    }\n",
       "\n",
       "    .dataframe tbody tr th {\n",
       "        vertical-align: top;\n",
       "    }\n",
       "\n",
       "    .dataframe thead th {\n",
       "        text-align: right;\n",
       "    }\n",
       "</style>\n",
       "<table border=\"1\" class=\"dataframe\">\n",
       "  <thead>\n",
       "    <tr style=\"text-align: right;\">\n",
       "      <th></th>\n",
       "      <th>Bumblebee</th>\n",
       "      <th>Megatron</th>\n",
       "      <th>Optimus Prime</th>\n",
       "    </tr>\n",
       "  </thead>\n",
       "  <tbody>\n",
       "    <tr>\n",
       "      <th>0</th>\n",
       "      <td>1</td>\n",
       "      <td>0</td>\n",
       "      <td>0</td>\n",
       "    </tr>\n",
       "    <tr>\n",
       "      <th>1</th>\n",
       "      <td>0</td>\n",
       "      <td>0</td>\n",
       "      <td>1</td>\n",
       "    </tr>\n",
       "    <tr>\n",
       "      <th>2</th>\n",
       "      <td>0</td>\n",
       "      <td>1</td>\n",
       "      <td>0</td>\n",
       "    </tr>\n",
       "  </tbody>\n",
       "</table>\n",
       "</div>"
      ],
      "text/plain": [
       "   Bumblebee  Megatron  Optimus Prime\n",
       "0          1         0              0\n",
       "1          0         0              1\n",
       "2          0         1              0"
      ]
     },
     "execution_count": 87,
     "metadata": {},
     "output_type": "execute_result"
    }
   ],
   "source": [
    "pd.get_dummies(categorical_df[\"Name\"], dtype=int)"
   ]
  },
  {
   "cell_type": "code",
   "execution_count": null,
   "metadata": {},
   "outputs": [
    {
     "data": {
      "text/plain": [
       "torch.Size([38, 20])"
      ]
     },
     "execution_count": 88,
     "metadata": {},
     "output_type": "execute_result"
    }
   ],
   "source": [
    "import torch\n",
    "import torch.nn.functional as F\n",
    "\n",
    "input_ids = torch.tensor(input_ids)\n",
    "one_hot_encodings = F.one_hot(input_ids, num_classes=len(token2idx))\n",
    "one_hot_encodings.shape"
   ]
  },
  {
   "attachments": {},
   "cell_type": "markdown",
   "metadata": {},
   "source": [
    "Para cada 38 tokens nós temos então um one-hot vector com 20 dimensões, pois nosso vocabulário contém 20 caractéres diferentes."
   ]
  },
  {
   "cell_type": "code",
   "execution_count": null,
   "metadata": {},
   "outputs": [
    {
     "data": {
      "text/plain": [
       "20"
      ]
     },
     "execution_count": 89,
     "metadata": {},
     "output_type": "execute_result"
    }
   ],
   "source": [
    "import numpy as np\n",
    "len(np.unique(input_ids))"
   ]
  },
  {
   "cell_type": "code",
   "execution_count": null,
   "metadata": {},
   "outputs": [
    {
     "name": "stdout",
     "output_type": "stream",
     "text": [
      "Token: T\n",
      "Tensor index: 5\n",
      "One-hot: tensor([0, 0, 0, 0, 0, 1, 0, 0, 0, 0, 0, 0, 0, 0, 0, 0, 0, 0, 0, 0])\n"
     ]
    }
   ],
   "source": [
    "print(f\"Token: {tokenized_text[0]}\")\n",
    "print(f\"Tensor index: {input_ids[0]}\")\n",
    "print(f\"One-hot: {one_hot_encodings[0]}\")"
   ]
  },
  {
   "attachments": {},
   "cell_type": "markdown",
   "metadata": {},
   "source": [
    "# Subword Tokenization"
   ]
  },
  {
   "attachments": {},
   "cell_type": "markdown",
   "metadata": {},
   "source": [
    "A ideia por trás da Subword Tokenization é combinar os melhores aspectos da tokenização por character e por palavra. Por um lado, queremos quebrar palavras de baixa ocorrência em unidades menores para que ele seja capaz de lidar com palavras complexas e erros de ortografia. Por outro lado, queremos manter palavras frequentes como entidades únicas para manter o tamanho do vocabulário em um tamanho gerenciável. A maior característica dessa estratégia é que ela é **aprendida** com pretraining corpus."
   ]
  },
  {
   "attachments": {},
   "cell_type": "markdown",
   "metadata": {},
   "source": [
    "Existem diversos algorítmos de subword tokenization que são usados dentro do universo da NLP, iremos ver o WordPiece, que é implementado pelo tokenizador do BERT e do DistilBERT"
   ]
  },
  {
   "cell_type": "code",
   "execution_count": null,
   "metadata": {},
   "outputs": [],
   "source": [
    "# Felizmente o Hugging Face implementa uma classe AutoTokenizer\n",
    "# que pertence a um conjunto de classes \"automaticas\" cujo trabalho\n",
    "# é recuperar a configuração do modelo, pesos do pretreino, ou o vocabuláro pelo nome do checkpoint.\n",
    "from transformers import AutoTokenizer\n",
    "\n",
    "tokenizer = AutoTokenizer.from_pretrained(\"distilbert-base-uncased\")"
   ]
  },
  {
   "cell_type": "code",
   "execution_count": null,
   "metadata": {},
   "outputs": [
    {
     "data": {
      "text/plain": [
       "{'input_ids': [101, 19204, 6026, 3793, 2003, 1037, 4563, 4708, 1997, 17953, 2361, 1012, 102], 'attention_mask': [1, 1, 1, 1, 1, 1, 1, 1, 1, 1, 1, 1, 1]}"
      ]
     },
     "execution_count": 92,
     "metadata": {},
     "output_type": "execute_result"
    }
   ],
   "source": [
    "encoded_text = tokenizer(text) # text = \"Tokenizing text is a core task of NLP.\"\n",
    "encoded_text"
   ]
  },
  {
   "attachments": {},
   "cell_type": "markdown",
   "metadata": {},
   "source": [
    "Assim como a tokenização por char, podemos ver que as palavras foram mapeadas para inteiros únicos no campo __input_ids__. Iremos discutir sobre o papel do attention_mask posterioemente, mas guardem por enquanto essa ideia.\n",
    "\n",
    "Agora que temos os inputs_ids, podemos convertê-los novamente para tokens usando o método convert_ids_to_tokens implementado pelo tokenizer."
   ]
  },
  {
   "cell_type": "code",
   "execution_count": null,
   "metadata": {},
   "outputs": [
    {
     "data": {
      "text/plain": [
       "['[CLS]',\n",
       " 'token',\n",
       " '##izing',\n",
       " 'text',\n",
       " 'is',\n",
       " 'a',\n",
       " 'core',\n",
       " 'task',\n",
       " 'of',\n",
       " 'nl',\n",
       " '##p',\n",
       " '.',\n",
       " '[SEP]']"
      ]
     },
     "execution_count": 93,
     "metadata": {},
     "output_type": "execute_result"
    }
   ],
   "source": [
    "tokens = tokenizer.convert_ids_to_tokens(encoded_text.input_ids)\n",
    "tokens"
   ]
  },
  {
   "attachments": {},
   "cell_type": "markdown",
   "metadata": {},
   "source": [
    "_CLS_ indica o **começo** de uma uma sequência.  \n",
    "_SEP_ indica o **final** de uma sequência.  \n",
    "Esses tokens geralmente variam de modelo para modelo."
   ]
  },
  {
   "attachments": {},
   "cell_type": "markdown",
   "metadata": {},
   "source": [
    "Podemos ver que tokenizing e NLP foram quebrados em substrings, o que faz sentidos pois são palavras de ocorrência mais baixa. O prefixo ## indica que a sequência precedência não é um espaço em branco, quaisquer tokens com esse prefixo devem ser mergeados com o token anterior quando forem convertidos em string novamente."
   ]
  },
  {
   "cell_type": "code",
   "execution_count": null,
   "metadata": {},
   "outputs": [
    {
     "data": {
      "text/plain": [
       "'[CLS] tokenizing text is a core task of nlp. [SEP]'"
      ]
     },
     "execution_count": 94,
     "metadata": {},
     "output_type": "execute_result"
    }
   ],
   "source": [
    "# A classe AutoTokenizer também possui um método convert_tokens_to_string que converte os tokens em uma string.\n",
    "tokenizer.convert_tokens_to_string(tokens)"
   ]
  },
  {
   "attachments": {},
   "cell_type": "markdown",
   "metadata": {},
   "source": [
    "É muito importante quando usarmos pretrained models termos certezas que usamos também o mesmo tokenizador cujo modelo foi treinado. Para o modelos, mudar o tokenizador é como mudar o vocabulário."
   ]
  },
  {
   "attachments": {},
   "cell_type": "markdown",
   "metadata": {},
   "source": [
    "# Tokenizing the Whole Dataset"
   ]
  },
  {
   "cell_type": "code",
   "execution_count": null,
   "metadata": {},
   "outputs": [],
   "source": [
    "def tokenize(batch):\n",
    " return tokenizer(batch[\"text\"], padding=True, truncation=True)\n",
    "\n",
    "# padding=True will pad the sequences to the maximum length\n",
    "# truncation=True will truncate the sequences to the models maximum length"
   ]
  },
  {
   "cell_type": "code",
   "execution_count": null,
   "metadata": {},
   "outputs": [
    {
     "name": "stderr",
     "output_type": "stream",
     "text": [
      "Using the latest cached version of the module from /Users/petropolis/.cache/huggingface/modules/datasets_modules/datasets/emotion/cca5efe2dfeb58c1d098e0f9eeb200e9927d889b5a03c67097275dfb5fe463bd (last modified on Mon Apr 10 02:52:09 2023) since it couldn't be found locally at emotion., or remotely on the Hugging Face Hub.\n",
      "No config specified, defaulting to: emotion/split\n",
      "Found cached dataset emotion (/Users/petropolis/.cache/huggingface/datasets/emotion/split/1.0.0/cca5efe2dfeb58c1d098e0f9eeb200e9927d889b5a03c67097275dfb5fe463bd)\n"
     ]
    },
    {
     "data": {
      "application/vnd.jupyter.widget-view+json": {
       "model_id": "102f2b8036f8467482c9a4194fee87a5",
       "version_major": 2,
       "version_minor": 0
      },
      "text/plain": [
       "  0%|          | 0/3 [00:00<?, ?it/s]"
      ]
     },
     "metadata": {},
     "output_type": "display_data"
    }
   ],
   "source": [
    "from datasets import load_dataset\n",
    "\n",
    "emotions2 = load_dataset(\"emotion\")"
   ]
  },
  {
   "cell_type": "code",
   "execution_count": null,
   "metadata": {},
   "outputs": [
    {
     "data": {
      "text/plain": [
       "{'input_ids': [[101, 1045, 2134, 2102, 2514, 26608, 102, 0, 0, 0, 0, 0, 0, 0, 0, 0, 0, 0, 0, 0, 0, 0, 0], [101, 1045, 2064, 2175, 2013, 3110, 2061, 20625, 2000, 2061, 9636, 17772, 2074, 2013, 2108, 2105, 2619, 2040, 14977, 1998, 2003, 8300, 102]], 'attention_mask': [[1, 1, 1, 1, 1, 1, 1, 0, 0, 0, 0, 0, 0, 0, 0, 0, 0, 0, 0, 0, 0, 0, 0], [1, 1, 1, 1, 1, 1, 1, 1, 1, 1, 1, 1, 1, 1, 1, 1, 1, 1, 1, 1, 1, 1, 1]]}"
      ]
     },
     "execution_count": 97,
     "metadata": {},
     "output_type": "execute_result"
    }
   ],
   "source": [
    "tokenize(emotions2[\"train\"][:2])"
   ]
  },
  {
   "cell_type": "code",
   "execution_count": null,
   "metadata": {},
   "outputs": [
    {
     "data": {
      "text/html": [
       "<div>\n",
       "<style scoped>\n",
       "    .dataframe tbody tr th:only-of-type {\n",
       "        vertical-align: middle;\n",
       "    }\n",
       "\n",
       "    .dataframe tbody tr th {\n",
       "        vertical-align: top;\n",
       "    }\n",
       "\n",
       "    .dataframe thead th {\n",
       "        text-align: right;\n",
       "    }\n",
       "</style>\n",
       "<table border=\"1\" class=\"dataframe\">\n",
       "  <thead>\n",
       "    <tr style=\"text-align: right;\">\n",
       "      <th></th>\n",
       "      <th>text</th>\n",
       "      <th>label</th>\n",
       "    </tr>\n",
       "  </thead>\n",
       "  <tbody>\n",
       "    <tr>\n",
       "      <th>0</th>\n",
       "      <td>i didnt feel humiliated</td>\n",
       "      <td>0</td>\n",
       "    </tr>\n",
       "    <tr>\n",
       "      <th>1</th>\n",
       "      <td>i can go from feeling so hopeless to so damned...</td>\n",
       "      <td>0</td>\n",
       "    </tr>\n",
       "  </tbody>\n",
       "</table>\n",
       "</div>"
      ],
      "text/plain": [
       "                                                text  label\n",
       "0                            i didnt feel humiliated      0\n",
       "1  i can go from feeling so hopeless to so damned...      0"
      ]
     },
     "execution_count": 98,
     "metadata": {},
     "output_type": "execute_result"
    }
   ],
   "source": [
    "emotions[\"train\"][:2]"
   ]
  },
  {
   "attachments": {},
   "cell_type": "markdown",
   "metadata": {},
   "source": [
    "Aqui podemos ver o resultado do padding, o primeiro elemento dos inputs_ids é bem menor que o segundo, então zeros foram adicionados para assegurar que ambos tenham o mesmo tamanho. Também note que tokenizer retornou um attention_mask array. Isso é porque não queremos que o modelo se confunda com os paddings, a attention mask permite que o modelo ignore as padded partes do input."
   ]
  },
  {
   "cell_type": "code",
   "execution_count": null,
   "metadata": {},
   "outputs": [
    {
     "name": "stderr",
     "output_type": "stream",
     "text": [
      "Loading cached processed dataset at /Users/petropolis/.cache/huggingface/datasets/emotion/split/1.0.0/cca5efe2dfeb58c1d098e0f9eeb200e9927d889b5a03c67097275dfb5fe463bd/cache-12e3678e3ca4c1ad.arrow\n",
      "Loading cached processed dataset at /Users/petropolis/.cache/huggingface/datasets/emotion/split/1.0.0/cca5efe2dfeb58c1d098e0f9eeb200e9927d889b5a03c67097275dfb5fe463bd/cache-19d4f572a6e262e1.arrow\n",
      "Loading cached processed dataset at /Users/petropolis/.cache/huggingface/datasets/emotion/split/1.0.0/cca5efe2dfeb58c1d098e0f9eeb200e9927d889b5a03c67097275dfb5fe463bd/cache-83689b94c3128859.arrow\n"
     ]
    }
   ],
   "source": [
    "emotions_encoded = emotions2.map(tokenize, batched=True, batch_size=None)"
   ]
  },
  {
   "cell_type": "code",
   "execution_count": null,
   "metadata": {},
   "outputs": [
    {
     "data": {
      "text/plain": [
       "['text', 'label', 'input_ids', 'attention_mask']"
      ]
     },
     "execution_count": 100,
     "metadata": {},
     "output_type": "execute_result"
    }
   ],
   "source": [
    "emotions_encoded[\"train\"].column_names"
   ]
  },
  {
   "cell_type": "code",
   "execution_count": null,
   "metadata": {},
   "outputs": [
    {
     "data": {
      "text/plain": [
       "[101,\n",
       " 1045,\n",
       " 2134,\n",
       " 2102,\n",
       " 2514,\n",
       " 26608,\n",
       " 102,\n",
       " 0,\n",
       " 0,\n",
       " 0,\n",
       " 0,\n",
       " 0,\n",
       " 0,\n",
       " 0,\n",
       " 0,\n",
       " 0,\n",
       " 0,\n",
       " 0,\n",
       " 0,\n",
       " 0,\n",
       " 0,\n",
       " 0,\n",
       " 0,\n",
       " 0,\n",
       " 0,\n",
       " 0,\n",
       " 0,\n",
       " 0,\n",
       " 0,\n",
       " 0,\n",
       " 0,\n",
       " 0,\n",
       " 0,\n",
       " 0,\n",
       " 0,\n",
       " 0,\n",
       " 0,\n",
       " 0,\n",
       " 0,\n",
       " 0,\n",
       " 0,\n",
       " 0,\n",
       " 0,\n",
       " 0,\n",
       " 0,\n",
       " 0,\n",
       " 0,\n",
       " 0,\n",
       " 0,\n",
       " 0,\n",
       " 0,\n",
       " 0,\n",
       " 0,\n",
       " 0,\n",
       " 0,\n",
       " 0,\n",
       " 0,\n",
       " 0,\n",
       " 0,\n",
       " 0,\n",
       " 0,\n",
       " 0,\n",
       " 0,\n",
       " 0,\n",
       " 0,\n",
       " 0,\n",
       " 0,\n",
       " 0,\n",
       " 0,\n",
       " 0,\n",
       " 0,\n",
       " 0,\n",
       " 0,\n",
       " 0,\n",
       " 0,\n",
       " 0,\n",
       " 0,\n",
       " 0,\n",
       " 0,\n",
       " 0,\n",
       " 0,\n",
       " 0,\n",
       " 0,\n",
       " 0,\n",
       " 0,\n",
       " 0,\n",
       " 0]"
      ]
     },
     "execution_count": 101,
     "metadata": {},
     "output_type": "execute_result"
    }
   ],
   "source": [
    "emotions_encoded[\"train\"][0][\"input_ids\"]"
   ]
  },
  {
   "cell_type": "code",
   "execution_count": null,
   "metadata": {},
   "outputs": [
    {
     "data": {
      "text/plain": [
       "[1,\n",
       " 1,\n",
       " 1,\n",
       " 1,\n",
       " 1,\n",
       " 1,\n",
       " 1,\n",
       " 0,\n",
       " 0,\n",
       " 0,\n",
       " 0,\n",
       " 0,\n",
       " 0,\n",
       " 0,\n",
       " 0,\n",
       " 0,\n",
       " 0,\n",
       " 0,\n",
       " 0,\n",
       " 0,\n",
       " 0,\n",
       " 0,\n",
       " 0,\n",
       " 0,\n",
       " 0,\n",
       " 0,\n",
       " 0,\n",
       " 0,\n",
       " 0,\n",
       " 0,\n",
       " 0,\n",
       " 0,\n",
       " 0,\n",
       " 0,\n",
       " 0,\n",
       " 0,\n",
       " 0,\n",
       " 0,\n",
       " 0,\n",
       " 0,\n",
       " 0,\n",
       " 0,\n",
       " 0,\n",
       " 0,\n",
       " 0,\n",
       " 0,\n",
       " 0,\n",
       " 0,\n",
       " 0,\n",
       " 0,\n",
       " 0,\n",
       " 0,\n",
       " 0,\n",
       " 0,\n",
       " 0,\n",
       " 0,\n",
       " 0,\n",
       " 0,\n",
       " 0,\n",
       " 0,\n",
       " 0,\n",
       " 0,\n",
       " 0,\n",
       " 0,\n",
       " 0,\n",
       " 0,\n",
       " 0,\n",
       " 0,\n",
       " 0,\n",
       " 0,\n",
       " 0,\n",
       " 0,\n",
       " 0,\n",
       " 0,\n",
       " 0,\n",
       " 0,\n",
       " 0,\n",
       " 0,\n",
       " 0,\n",
       " 0,\n",
       " 0,\n",
       " 0,\n",
       " 0,\n",
       " 0,\n",
       " 0,\n",
       " 0,\n",
       " 0]"
      ]
     },
     "execution_count": 102,
     "metadata": {},
     "output_type": "execute_result"
    }
   ],
   "source": [
    "emotions_encoded[\"train\"][0][\"attention_mask\"]"
   ]
  },
  {
   "attachments": {},
   "cell_type": "markdown",
   "metadata": {},
   "source": [
    "# Treinando um Classificador de Texto\n"
   ]
  },
  {
   "attachments": {},
   "cell_type": "markdown",
   "metadata": {},
   "source": [
    "Como vimos, modelos como o DistilBERT são pretreinados para predizer palavras mascaradas na sequência de um texto. Entretanto, não podemos usar esses modelos diretamente para classificação de texto, precisamos modificá-los levemente. Para entender como essa modificação, vamos voltar para o slide."
   ]
  },
  {
   "attachments": {},
   "cell_type": "markdown",
   "metadata": {},
   "source": [
    "# Transformers como Feature Extractor"
   ]
  },
  {
   "attachments": {},
   "cell_type": "markdown",
   "metadata": {},
   "source": [
    "Mais uma vez, iremos usar a classe Auto do HuggingFace chamada AutoModel.  \n",
    "Essa classe implementa um método chamado from_pretrained que carrega os pesos do modelo pre-treinado."
   ]
  },
  {
   "cell_type": "code",
   "execution_count": null,
   "metadata": {},
   "outputs": [
    {
     "name": "stderr",
     "output_type": "stream",
     "text": [
      "Some weights of the model checkpoint at distilbert-base-uncased were not used when initializing DistilBertModel: ['vocab_transform.weight', 'vocab_layer_norm.weight', 'vocab_projector.weight', 'vocab_layer_norm.bias', 'vocab_projector.bias', 'vocab_transform.bias']\n",
      "- This IS expected if you are initializing DistilBertModel from the checkpoint of a model trained on another task or with another architecture (e.g. initializing a BertForSequenceClassification model from a BertForPreTraining model).\n",
      "- This IS NOT expected if you are initializing DistilBertModel from the checkpoint of a model that you expect to be exactly identical (initializing a BertForSequenceClassification model from a BertForSequenceClassification model).\n"
     ]
    }
   ],
   "source": [
    "from transformers import AutoModel\n",
    "import torch\n",
    "\n",
    "model_ckpt = \"distilbert-base-uncased\"\n",
    "device = torch.device(\"cuda\" if torch.cuda.is_available() else \"cpu\") # usamos o PyTorch para checar se há uma GPU disponível\n",
    "model = AutoModel.from_pretrained(model_ckpt).to(device)"
   ]
  },
  {
   "attachments": {},
   "cell_type": "markdown",
   "metadata": {},
   "source": [
    "A classe AutoModel converte os token encodings para token embeddings e, em seguida, alimenta-os através do encoder stack para produzir hidden states. O objetivo é extrair os states do nosso corpus."
   ]
  },
  {
   "attachments": {},
   "cell_type": "markdown",
   "metadata": {},
   "source": [
    "Vamos recuperar um hidden state de uma única string. A primeira coisa que precisamos fazer é realizar o encode dessa string e converter o o token para tensores do PyTorch, isso é facilmente feito passando o argumento return_tensors=\"pt\" para o tokenizador, como demonstrado:"
   ]
  },
  {
   "cell_type": "code",
   "execution_count": null,
   "metadata": {},
   "outputs": [
    {
     "name": "stdout",
     "output_type": "stream",
     "text": [
      "Input tensor shape: torch.Size([1, 6])\n"
     ]
    }
   ],
   "source": [
    "text = \"this is a test\"\n",
    "inputs = tokenizer(text, return_tensors=\"pt\")\n",
    "print(f\"Input tensor shape: {inputs['input_ids'].shape}\")"
   ]
  },
  {
   "attachments": {},
   "cell_type": "markdown",
   "metadata": {},
   "source": [
    "Como podemos ver, o tensor resultante tem a dimensão \"batch_size, n_tokens\". Agora que temos os encodings como um tensor, o passo final é colocá-lo no mesmo decive do modelo e passar os inputs."
   ]
  },
  {
   "cell_type": "code",
   "execution_count": null,
   "metadata": {},
   "outputs": [
    {
     "data": {
      "text/plain": [
       "dict_items([('input_ids', tensor([[ 101, 2023, 2003, 1037, 3231,  102]])), ('attention_mask', tensor([[1, 1, 1, 1, 1, 1]]))])"
      ]
     },
     "execution_count": 105,
     "metadata": {},
     "output_type": "execute_result"
    }
   ],
   "source": [
    "inputs.items()"
   ]
  },
  {
   "cell_type": "code",
   "execution_count": null,
   "metadata": {},
   "outputs": [
    {
     "name": "stdout",
     "output_type": "stream",
     "text": [
      "BaseModelOutput(last_hidden_state=tensor([[[-0.1565, -0.1862,  0.0528,  ..., -0.1188,  0.0662,  0.5470],\n",
      "         [-0.3575, -0.6484, -0.0618,  ..., -0.3040,  0.3508,  0.5221],\n",
      "         [-0.2772, -0.4459,  0.1818,  ..., -0.0948, -0.0076,  0.9958],\n",
      "         [-0.2841, -0.3917,  0.3753,  ..., -0.2151, -0.1173,  1.0526],\n",
      "         [ 0.2661, -0.5094, -0.3180,  ..., -0.4203,  0.0144, -0.2149],\n",
      "         [ 0.9441,  0.0112, -0.4714,  ...,  0.1439, -0.7288, -0.1619]]]), hidden_states=None, attentions=None)\n"
     ]
    }
   ],
   "source": [
    "inputs = {k:v.to(device) for k,v in inputs.items()}\n",
    "with torch.no_grad():\n",
    "  outputs = model(**inputs)\n",
    "  print(outputs)\n"
   ]
  },
  {
   "attachments": {},
   "cell_type": "markdown",
   "metadata": {},
   "source": [
    "Nós usamos o gerenciador de context torch.no_grad() para disabilitar o cálculo do gradiente. O cálculo de gradientes é necessário durante a etapa de treinamento para atualizar os pesos do modelo com base no erro de previsão. Durante a inferência, o modelo já foi treinado então não é necessário atualizar os pesos."
   ]
  },
  {
   "attachments": {},
   "cell_type": "markdown",
   "metadata": {},
   "source": [
    "No nosso exemplo, o output é uma instância do BaseModelOutput, e nós podemos accesar seus atributos pelo nome. O atual modelo retornou apenas um atributo, que é o hidden statek, então vamos examinar suas dimensões."
   ]
  },
  {
   "cell_type": "code",
   "execution_count": null,
   "metadata": {},
   "outputs": [
    {
     "data": {
      "text/plain": [
       "torch.Size([1, 6, 768])"
      ]
     },
     "execution_count": 107,
     "metadata": {},
     "output_type": "execute_result"
    }
   ],
   "source": [
    "outputs.last_hidden_state.size()"
   ]
  },
  {
   "attachments": {},
   "cell_type": "markdown",
   "metadata": {},
   "source": [
    "Observando o tensor hidden state, vemos que suas dimensões são [batch_size, n_tokens, hidden_dim]. Em outras palavras, um vetor de dimensão 768 é retornado para cada 6 tokens input tokens. Para tarefas de classificação é uma prática comum usar só o hidden state ssociado com o token [CLS] como input feature. Como esse token aparece no começo de cada sequência, nós podemos extraí-lo simplesmente indexando da seguinte forma:"
   ]
  },
  {
   "cell_type": "code",
   "execution_count": null,
   "metadata": {},
   "outputs": [
    {
     "data": {
      "text/plain": [
       "torch.Size([1, 768])"
      ]
     },
     "execution_count": 108,
     "metadata": {},
     "output_type": "execute_result"
    }
   ],
   "source": [
    "outputs.last_hidden_state[:,0].size()"
   ]
  },
  {
   "attachments": {},
   "cell_type": "markdown",
   "metadata": {},
   "source": [
    "Agora que sabemos como extrair o hidden_state de uma única string, vamos fazê-lo para todo dataset."
   ]
  },
  {
   "cell_type": "code",
   "execution_count": null,
   "metadata": {},
   "outputs": [],
   "source": [
    "def extract_hidden_states(batch):\n",
    "  inputs = {k:v.to(device) for k,v in batch.items()\n",
    "            if k in tokenizer.model_input_names} # extrai os hidden states\n",
    "  with torch.no_grad():\n",
    "    last_hidden_state = model(**inputs).last_hidden_state\n",
    "  # retorna o vetor para o token [CLS]\n",
    "  return {\"hidden_state\": last_hidden_state[:,0].cpu().numpy()}"
   ]
  },
  {
   "attachments": {},
   "cell_type": "markdown",
   "metadata": {},
   "source": [
    "Como nosso modelo espera tensores como input, o próximo passo é converter os inputs_ids e attention_mask para o formato torch, como o seguinte:"
   ]
  },
  {
   "cell_type": "code",
   "execution_count": null,
   "metadata": {},
   "outputs": [],
   "source": [
    "emotions_encoded.set_format(\"torch\", columns=[\"input_ids\", \"attention_mask\", \"label\"])"
   ]
  },
  {
   "attachments": {},
   "cell_type": "markdown",
   "metadata": {},
   "source": [
    "Agora podemos extrair todos os hidden_states"
   ]
  },
  {
   "cell_type": "code",
   "execution_count": null,
   "metadata": {},
   "outputs": [
    {
     "data": {
      "application/vnd.jupyter.widget-view+json": {
       "model_id": "469bb05aa03c4c029a458d5f083b3b06",
       "version_major": 2,
       "version_minor": 0
      },
      "text/plain": [
       "Map:   0%|          | 0/16000 [00:00<?, ? examples/s]"
      ]
     },
     "metadata": {},
     "output_type": "display_data"
    },
    {
     "data": {
      "application/vnd.jupyter.widget-view+json": {
       "model_id": "063a9676a75e405392f16d388eee7782",
       "version_major": 2,
       "version_minor": 0
      },
      "text/plain": [
       "Map:   0%|          | 0/2000 [00:00<?, ? examples/s]"
      ]
     },
     "metadata": {},
     "output_type": "display_data"
    },
    {
     "data": {
      "application/vnd.jupyter.widget-view+json": {
       "model_id": "e8fc9b2cf1454a168fb513b7d3a9a721",
       "version_major": 2,
       "version_minor": 0
      },
      "text/plain": [
       "Map:   0%|          | 0/2000 [00:00<?, ? examples/s]"
      ]
     },
     "metadata": {},
     "output_type": "display_data"
    }
   ],
   "source": [
    "emotions_hidden = emotions_encoded.map(extract_hidden_states, batched=True)"
   ]
  },
  {
   "attachments": {},
   "cell_type": "markdown",
   "metadata": {},
   "source": [
    "O extract_hidden_states adicionou uma coluna \"hidden_state\" ao nosso dataset."
   ]
  },
  {
   "cell_type": "code",
   "execution_count": null,
   "metadata": {},
   "outputs": [
    {
     "data": {
      "text/plain": [
       "['text', 'label', 'input_ids', 'attention_mask', 'hidden_state']"
      ]
     },
     "execution_count": 112,
     "metadata": {},
     "output_type": "execute_result"
    }
   ],
   "source": [
    "emotions_hidden[\"train\"].column_names"
   ]
  },
  {
   "attachments": {},
   "cell_type": "markdown",
   "metadata": {},
   "source": [
    "## Criando uma matriz de features"
   ]
  },
  {
   "attachments": {},
   "cell_type": "markdown",
   "metadata": {},
   "source": [
    "O dataset pre-processado agora contem todas as informações que precisamos para treinar um classificador. Nós iremos usar os hidden states como input features e os labels como targets. Nós podemos criar os arrays correspondentes facilmente no formato do Scikit-learn, segue:"
   ]
  },
  {
   "cell_type": "code",
   "execution_count": null,
   "metadata": {},
   "outputs": [
    {
     "data": {
      "text/plain": [
       "((16000, 768), (2000, 768))"
      ]
     },
     "execution_count": 113,
     "metadata": {},
     "output_type": "execute_result"
    }
   ],
   "source": [
    "import numpy as np\n",
    "X_train = np.array(emotions_hidden[\"train\"][\"hidden_state\"])\n",
    "X_valid = np.array(emotions_hidden[\"validation\"][\"hidden_state\"])\n",
    "y_train = np.array(emotions_hidden[\"train\"][\"label\"])\n",
    "y_valid = np.array(emotions_hidden[\"validation\"][\"label\"])\n",
    "X_train.shape, X_valid.shape"
   ]
  },
  {
   "attachments": {},
   "cell_type": "markdown",
   "metadata": {},
   "source": [
    "É uma boa prática visualizar os dados que iremos classificar. Como visualizar hidden states em 768 dimensões não é possível, podemos usar um algorítmo chamado UMAP para criar projeções desses espaços vetorais num subespaço 2D. Como o UMAP funciona melhor quando as features estão dimensionadas para ficar no intervalo de [0, 1], primeiramente iremos aplicar o MinMaxScaler, e depois usar a implementação do UMAP para projetar os hidden states num espaço vetorial 2D."
   ]
  },
  {
   "cell_type": "code",
   "execution_count": null,
   "metadata": {},
   "outputs": [
    {
     "name": "stderr",
     "output_type": "stream",
     "text": [
      "/Users/petropolis/Library/Python/3.9/lib/python/site-packages/umap/distances.py:1063: NumbaDeprecationWarning: The 'nopython' keyword argument was not supplied to the 'numba.jit' decorator. The implicit default value for this argument is currently False, but it will be changed to True in Numba 0.59.0. See https://numba.readthedocs.io/en/stable/reference/deprecation.html#deprecation-of-object-mode-fall-back-behaviour-when-using-jit for details.\n",
      "  @numba.jit()\n",
      "/Users/petropolis/Library/Python/3.9/lib/python/site-packages/umap/distances.py:1071: NumbaDeprecationWarning: The 'nopython' keyword argument was not supplied to the 'numba.jit' decorator. The implicit default value for this argument is currently False, but it will be changed to True in Numba 0.59.0. See https://numba.readthedocs.io/en/stable/reference/deprecation.html#deprecation-of-object-mode-fall-back-behaviour-when-using-jit for details.\n",
      "  @numba.jit()\n",
      "/Users/petropolis/Library/Python/3.9/lib/python/site-packages/umap/distances.py:1086: NumbaDeprecationWarning: The 'nopython' keyword argument was not supplied to the 'numba.jit' decorator. The implicit default value for this argument is currently False, but it will be changed to True in Numba 0.59.0. See https://numba.readthedocs.io/en/stable/reference/deprecation.html#deprecation-of-object-mode-fall-back-behaviour-when-using-jit for details.\n",
      "  @numba.jit()\n",
      "/Users/petropolis/Library/Python/3.9/lib/python/site-packages/umap/umap_.py:660: NumbaDeprecationWarning: The 'nopython' keyword argument was not supplied to the 'numba.jit' decorator. The implicit default value for this argument is currently False, but it will be changed to True in Numba 0.59.0. See https://numba.readthedocs.io/en/stable/reference/deprecation.html#deprecation-of-object-mode-fall-back-behaviour-when-using-jit for details.\n",
      "  @numba.jit()\n"
     ]
    },
    {
     "data": {
      "text/html": [
       "<div>\n",
       "<style scoped>\n",
       "    .dataframe tbody tr th:only-of-type {\n",
       "        vertical-align: middle;\n",
       "    }\n",
       "\n",
       "    .dataframe tbody tr th {\n",
       "        vertical-align: top;\n",
       "    }\n",
       "\n",
       "    .dataframe thead th {\n",
       "        text-align: right;\n",
       "    }\n",
       "</style>\n",
       "<table border=\"1\" class=\"dataframe\">\n",
       "  <thead>\n",
       "    <tr style=\"text-align: right;\">\n",
       "      <th></th>\n",
       "      <th>X</th>\n",
       "      <th>Y</th>\n",
       "      <th>label</th>\n",
       "    </tr>\n",
       "  </thead>\n",
       "  <tbody>\n",
       "    <tr>\n",
       "      <th>0</th>\n",
       "      <td>4.326355</td>\n",
       "      <td>6.602766</td>\n",
       "      <td>0</td>\n",
       "    </tr>\n",
       "    <tr>\n",
       "      <th>1</th>\n",
       "      <td>-2.902249</td>\n",
       "      <td>5.921591</td>\n",
       "      <td>0</td>\n",
       "    </tr>\n",
       "    <tr>\n",
       "      <th>2</th>\n",
       "      <td>5.291926</td>\n",
       "      <td>3.367009</td>\n",
       "      <td>3</td>\n",
       "    </tr>\n",
       "    <tr>\n",
       "      <th>3</th>\n",
       "      <td>-2.361753</td>\n",
       "      <td>3.529143</td>\n",
       "      <td>2</td>\n",
       "    </tr>\n",
       "    <tr>\n",
       "      <th>4</th>\n",
       "      <td>-3.066310</td>\n",
       "      <td>3.757779</td>\n",
       "      <td>3</td>\n",
       "    </tr>\n",
       "  </tbody>\n",
       "</table>\n",
       "</div>"
      ],
      "text/plain": [
       "          X         Y  label\n",
       "0  4.326355  6.602766      0\n",
       "1 -2.902249  5.921591      0\n",
       "2  5.291926  3.367009      3\n",
       "3 -2.361753  3.529143      2\n",
       "4 -3.066310  3.757779      3"
      ]
     },
     "execution_count": 114,
     "metadata": {},
     "output_type": "execute_result"
    }
   ],
   "source": [
    "import umap.umap_ as umap\n",
    "from sklearn.preprocessing import MinMaxScaler\n",
    "# Scale features to [0,1] range\n",
    "X_scaled = MinMaxScaler().fit_transform(X_train)\n",
    "# Initialize and fit UMAP\n",
    "mapper = umap.UMAP(n_components=2, metric=\"cosine\").fit(X_scaled) # Create a DataFrame of 2D embeddings\n",
    "df_emb = pd.DataFrame(mapper.embedding_, columns=[\"X\", \"Y\"])\n",
    "df_emb[\"label\"] = y_train\n",
    "df_emb.head()"
   ]
  },
  {
   "attachments": {},
   "cell_type": "markdown",
   "metadata": {},
   "source": [
    "O resultado final é um array com o mesmo número de training samples, mas com 2 features ao invés das 768 que vimos anteriormente. Vamos agora investigar os dados comprimidos um pouco mais profundamente e plotar a densidade de cada ponto de cada categoria separadamente."
   ]
  },
  {
   "cell_type": "code",
   "execution_count": null,
   "metadata": {},
   "outputs": [
    {
     "data": {
      "image/png": "[encoded data removed]",
      "text/plain": [
       "<Figure size 700x500 with 6 Axes>"
      ]
     },
     "metadata": {},
     "output_type": "display_data"
    }
   ],
   "source": [
    "fig, axes = plt.subplots(2, 3, figsize=(7,5))\n",
    "axes = axes.flatten()\n",
    "cmaps = [\"Greys\", \"Blues\", \"Oranges\", \"Reds\", \"Purples\", \"Greens\"]\n",
    "labels = emotions[\"train\"].features[\"label\"].names\n",
    "\n",
    "for i, (label, cmap) in enumerate(zip(labels, cmaps)):\n",
    "  df_emb_sub = df_emb.query(f\"label == {i}\")\n",
    "  axes[i].hexbin(df_emb_sub[\"X\"], df_emb_sub[\"Y\"],\n",
    "                 cmap=cmap,\n",
    "                 gridsize=20,\n",
    "                 linewidths=(0,))\n",
    "  axes[i].set_title(label)\n",
    "  axes[i].set_xticks([]), axes[i].set_yticks([])\n",
    "\n",
    "plt.tight_layout()\n",
    "plt.show()"
   ]
  },
  {
   "attachments": {},
   "cell_type": "markdown",
   "metadata": {},
   "source": [
    "Só porque algumas categorias se sobrepõem no espaço 2D não significa que elas não são separadas no espaço original. Inversamente, se elas não se sobrepõem no espaço 2D, elas certamente não se sobrepoem no espaço original.  \n",
    "\n",
    "Podemos ver que sadness, anger e fear ocupam regiões similares. Joy e Love também ocupam regiões similares, mas diferentes das emoções \"negativas\", já Surprise está em todas as regiões."
   ]
  },
  {
   "attachments": {},
   "cell_type": "markdown",
   "metadata": {},
   "source": [
    "Agora vamos treinar um modelo de regressão linear para classificar os hiden_states."
   ]
  },
  {
   "cell_type": "code",
   "execution_count": null,
   "metadata": {},
   "outputs": [
    {
     "data": {
      "text/plain": [
       "0.6335"
      ]
     },
     "execution_count": 116,
     "metadata": {},
     "output_type": "execute_result"
    }
   ],
   "source": [
    "from sklearn.linear_model import LogisticRegression\n",
    "# We increase `max_iter` to guarantee convergence\n",
    "lr_clf = LogisticRegression(max_iter=3000)\n",
    "lr_clf.fit(X_train, y_train)\n",
    "lr_clf.score(X_valid, y_valid)"
   ]
  },
  {
   "attachments": {},
   "cell_type": "markdown",
   "metadata": {},
   "source": [
    "Olhando para a acurácia, aparentemente nosso modelo é só um pouco melhor do que aleatório, mas como estamos lidando com um dataset de várias classes e desbalanceado, na verdade é significamente melhor. Podemos confirmar essa tese comparando com um baseline simples. Dentro do sckit-learn, existe uma classe DummyClassifier que pode ser importado para criar um classificador com heurísticas simples, como escolher a classe majoritária ou classes aleatórias. Nesse caso, a melhor heurística é escolher sempre a classe mais frequente, que retorna uma acurácia de 35%."
   ]
  },
  {
   "cell_type": "code",
   "execution_count": null,
   "metadata": {},
   "outputs": [
    {
     "data": {
      "text/plain": [
       "0.352"
      ]
     },
     "execution_count": 117,
     "metadata": {},
     "output_type": "execute_result"
    }
   ],
   "source": [
    "from sklearn.dummy import DummyClassifier\n",
    "dummy_clf = DummyClassifier(strategy=\"most_frequent\")\n",
    "dummy_clf.fit(X_train, y_train)\n",
    "dummy_clf.score(X_valid, y_valid)"
   ]
  },
  {
   "attachments": {},
   "cell_type": "markdown",
   "metadata": {},
   "source": [
    "Então nosso classificador simples usando os embeddings do DistilBERT é significamente melhor que nossa baseline. Podemos investigar mais profundamente a performance do modelo plotando a matriz de confusão do classificador, que nos diz a relação entre os labels verdadeiros e o preditos."
   ]
  },
  {
   "cell_type": "code",
   "execution_count": null,
   "metadata": {},
   "outputs": [
    {
     "data": {
      "image/png": "[encoded data removed]",
      "text/plain": [
       "<Figure size 600x600 with 1 Axes>"
      ]
     },
     "metadata": {},
     "output_type": "display_data"
    }
   ],
   "source": [
    "from sklearn.metrics import ConfusionMatrixDisplay, confusion_matrix\n",
    "def plot_confusion_matrix(y_preds, y_true, labels):\n",
    "  cm = confusion_matrix(y_true, y_preds, normalize=\"true\")\n",
    "  fig, ax = plt.subplots(figsize=(6, 6))\n",
    "  disp = ConfusionMatrixDisplay(confusion_matrix=cm, display_labels=labels)\n",
    "  disp.plot(cmap=\"Blues\", values_format=\".2f\", ax=ax, colorbar=False)\n",
    "  plt.title(\"Normalized confusion matrix\")\n",
    "  plt.show()\n",
    "y_preds = lr_clf.predict(X_valid)\n",
    "plot_confusion_matrix(y_preds, y_valid, labels)"
   ]
  },
  {
   "attachments": {},
   "cell_type": "markdown",
   "metadata": {},
   "source": [
    "Poodemos ver que **anger** e **fear** são constamente confundidos com **sadness**, o que reforça nossa observação quando visualizamos os embeddings. **love** e **surprise** são também confudidos com **joy**."
   ]
  },
  {
   "attachments": {},
   "cell_type": "markdown",
   "metadata": {},
   "source": [
    "## Fine tuning Transformers"
   ]
  },
  {
   "attachments": {},
   "cell_type": "markdown",
   "metadata": {},
   "source": [
    "Nós usamos `AutoModelForSequenceClassification` ao invés do `AutoModel` pois o `AutoModelForSequenceClassification` tem um Classification Head em cada output pre treinado."
   ]
  },
  {
   "cell_type": "code",
   "execution_count": null,
   "metadata": {},
   "outputs": [
    {
     "name": "stderr",
     "output_type": "stream",
     "text": [
      "Some weights of the model checkpoint at distilbert-base-uncased were not used when initializing DistilBertForSequenceClassification: ['vocab_transform.weight', 'vocab_layer_norm.weight', 'vocab_projector.weight', 'vocab_layer_norm.bias', 'vocab_projector.bias', 'vocab_transform.bias']\n",
      "- This IS expected if you are initializing DistilBertForSequenceClassification from the checkpoint of a model trained on another task or with another architecture (e.g. initializing a BertForSequenceClassification model from a BertForPreTraining model).\n",
      "- This IS NOT expected if you are initializing DistilBertForSequenceClassification from the checkpoint of a model that you expect to be exactly identical (initializing a BertForSequenceClassification model from a BertForSequenceClassification model).\n",
      "Some weights of DistilBertForSequenceClassification were not initialized from the model checkpoint at distilbert-base-uncased and are newly initialized: ['pre_classifier.weight', 'classifier.bias', 'pre_classifier.bias', 'classifier.weight']\n",
      "You should probably TRAIN this model on a down-stream task to be able to use it for predictions and inference.\n"
     ]
    }
   ],
   "source": [
    "from transformers import AutoModelForSequenceClassification\n",
    "num_labels = 6\n",
    "model = (AutoModelForSequenceClassification\n",
    "          .from_pretrained(model_ckpt, num_labels=num_labels)\n",
    "          .to(device))"
   ]
  },
  {
   "attachments": {},
   "cell_type": "markdown",
   "metadata": {},
   "source": [
    "### Defining the performance metrics"
   ]
  },
  {
   "attachments": {},
   "cell_type": "markdown",
   "metadata": {},
   "source": [
    "Vamos definir um monitoramento de métricas durante o treino. Para isso, criamos a função compute_metrics que recebe um objeto EvalPrediction (tupla com predictions e os atributos dos labels_ids) e retorna um dicionário que mapeia cada nome da métrica para seu valor. Para nossa aplicação, vamos computar o F1-score (média harmonica entre precisão e recall, varia de 0 a 1, f1 mais próximo de 1 indica um modelo perfeito)"
   ]
  },
  {
   "cell_type": "code",
   "execution_count": null,
   "metadata": {},
   "outputs": [],
   "source": [
    "\n",
    "from sklearn.metrics import accuracy_score, f1_score\n",
    "def compute_metrics(pred):\n",
    "  labels = pred.label_ids\n",
    "  preds = pred.predictions.argmax(-1)\n",
    "  f1 = f1_score(labels, preds, average=\"weighted\")\n",
    "  acc = accuracy_score(labels, preds)\n",
    "  return {\"accuracy\": acc, \"f1\": f1}"
   ]
  },
  {
   "cell_type": "code",
   "execution_count": null,
   "metadata": {},
   "outputs": [
    {
     "name": "stderr",
     "output_type": "stream",
     "text": [
      "/Users/petropolis/Library/Python/3.9/lib/python/site-packages/transformers/optimization.py:306: FutureWarning: This implementation of AdamW is deprecated and will be removed in a future version. Use the PyTorch implementation torch.optim.AdamW instead, or set `no_deprecation_warning=True` to disable this warning\n",
      "  warnings.warn(\n"
     ]
    },
    {
     "name": "stdout",
     "output_type": "stream",
     "text": [
      "huggingface/tokenizers: The current process just got forked, after parallelism has already been used. Disabling parallelism to avoid deadlocks...\n",
      "To disable this warning, you can either:\n",
      "\t- Avoid using `tokenizers` before the fork if possible\n",
      "\t- Explicitly set the environment variable TOKENIZERS_PARALLELISM=(true | false)\n",
      "huggingface/tokenizers: The current process just got forked, after parallelism has already been used. Disabling parallelism to avoid deadlocks...\n",
      "To disable this warning, you can either:\n",
      "\t- Avoid using `tokenizers` before the fork if possible\n",
      "\t- Explicitly set the environment variable TOKENIZERS_PARALLELISM=(true | false)\n",
      "huggingface/tokenizers: The current process just got forked, after parallelism has already been used. Disabling parallelism to avoid deadlocks...\n",
      "To disable this warning, you can either:\n",
      "\t- Avoid using `tokenizers` before the fork if possible\n",
      "\t- Explicitly set the environment variable TOKENIZERS_PARALLELISM=(true | false)\n"
     ]
    },
    {
     "data": {
      "application/vnd.jupyter.widget-view+json": {
       "model_id": "97fbff3704ac488589aec50c37db64d5",
       "version_major": 2,
       "version_minor": 0
      },
      "text/plain": [
       "  0%|          | 0/500 [00:00<?, ?it/s]"
      ]
     },
     "metadata": {},
     "output_type": "display_data"
    },
    {
     "name": "stdout",
     "output_type": "stream",
     "text": [
      "{'loss': 0.8649, 'learning_rate': 1e-05, 'epoch': 1.0}\n"
     ]
    },
    {
     "data": {
      "application/vnd.jupyter.widget-view+json": {
       "model_id": "9f143a01511f4a1990a4d56e8e577931",
       "version_major": 2,
       "version_minor": 0
      },
      "text/plain": [
       "  0%|          | 0/32 [00:00<?, ?it/s]"
      ]
     },
     "metadata": {},
     "output_type": "display_data"
    },
    {
     "name": "stdout",
     "output_type": "stream",
     "text": [
      "{'eval_loss': 0.3309759795665741, 'eval_accuracy': 0.896, 'eval_f1': 0.8923349868245531, 'eval_runtime': 170.7009, 'eval_samples_per_second': 11.716, 'eval_steps_per_second': 0.187, 'epoch': 1.0}\n",
      "{'loss': 0.2582, 'learning_rate': 0.0, 'epoch': 2.0}\n"
     ]
    },
    {
     "data": {
      "application/vnd.jupyter.widget-view+json": {
       "model_id": "94f5b06cc0d946fd97993c81f1a185fb",
       "version_major": 2,
       "version_minor": 0
      },
      "text/plain": [
       "  0%|          | 0/32 [00:00<?, ?it/s]"
      ]
     },
     "metadata": {},
     "output_type": "display_data"
    },
    {
     "name": "stdout",
     "output_type": "stream",
     "text": [
      "{'eval_loss': 0.22160272300243378, 'eval_accuracy': 0.9225, 'eval_f1': 0.9226803240287795, 'eval_runtime': 168.6891, 'eval_samples_per_second': 11.856, 'eval_steps_per_second': 0.19, 'epoch': 2.0}\n",
      "{'train_runtime': 11615.3931, 'train_samples_per_second': 2.755, 'train_steps_per_second': 0.043, 'train_loss': 0.5615316925048828, 'epoch': 2.0}\n"
     ]
    },
    {
     "data": {
      "text/plain": [
       "TrainOutput(global_step=500, training_loss=0.5615316925048828, metrics={'train_runtime': 11615.3931, 'train_samples_per_second': 2.755, 'train_steps_per_second': 0.043, 'train_loss': 0.5615316925048828, 'epoch': 2.0})"
      ]
     },
     "execution_count": 122,
     "metadata": {},
     "output_type": "execute_result"
    }
   ],
   "source": [
    "from transformers import Trainer\n",
    "trainer = Trainer(model=model,\n",
    "                  args=training_args,\n",
    "                  compute_metrics=compute_metrics,\n",
    "                  train_dataset=emotions_encoded[\"train\"],\n",
    "                  eval_dataset=emotions_encoded[\"validation\"],\n",
    "                  tokenizer=tokenizer)\n",
    "trainer.train()"
   ]
  },
  {
   "cell_type": "code",
   "execution_count": null,
   "metadata": {},
   "outputs": [
    {
     "data": {
      "application/vnd.jupyter.widget-view+json": {
       "model_id": "99948a75611e412ca380c91bebaca417",
       "version_major": 2,
       "version_minor": 0
      },
      "text/plain": [
       "  0%|          | 0/32 [00:00<?, ?it/s]"
      ]
     },
     "metadata": {},
     "output_type": "display_data"
    }
   ],
   "source": [
    "preds_output = trainer.predict(emotions_encoded[\"validation\"])"
   ]
  },
  {
   "cell_type": "code",
   "execution_count": null,
   "metadata": {},
   "outputs": [
    {
     "data": {
      "text/plain": [
       "{'test_loss': 0.22160272300243378,\n",
       " 'test_accuracy': 0.9225,\n",
       " 'test_f1': 0.9226803240287795,\n",
       " 'test_runtime': 163.5657,\n",
       " 'test_samples_per_second': 12.228,\n",
       " 'test_steps_per_second': 0.196}"
      ]
     },
     "execution_count": 124,
     "metadata": {},
     "output_type": "execute_result"
    }
   ],
   "source": [
    "preds_output.metrics"
   ]
  },
  {
   "cell_type": "code",
   "execution_count": null,
   "metadata": {},
   "outputs": [],
   "source": [
    "y_preds = np.argmax(preds_output.predictions, axis=1)"
   ]
  },
  {
   "cell_type": "code",
   "execution_count": null,
   "metadata": {},
   "outputs": [
    {
     "data": {
      "image/png": "[encoded data removed]",
      "text/plain": [
       "<Figure size 600x600 with 1 Axes>"
      ]
     },
     "metadata": {},
     "output_type": "display_data"
    }
   ],
   "source": [
    "plot_confusion_matrix(y_preds, y_valid, labels)"
   ]
  },
  {
   "attachments": {},
   "cell_type": "markdown",
   "metadata": {},
   "source": [
    "## Error analysis "
   ]
  },
  {
   "attachments": {},
   "cell_type": "markdown",
   "metadata": {},
   "source": [
    "O objetivo de analisar os erros é determinar Wrong Labels e Peculiaridades do Dataset que estejam influenciando negativamente no classificador."
   ]
  },
  {
   "cell_type": "code",
   "execution_count": null,
   "metadata": {},
   "outputs": [],
   "source": [
    "from torch.nn.functional import cross_entropy\n",
    "def forward_pass_with_label(batch):\n",
    "# Place all input tensors on the same device as the model\n",
    "  inputs = {k:v.to(device) for k,v in batch.items()\n",
    "            if k in tokenizer.model_input_names}\n",
    "  with torch.no_grad():\n",
    "    output = model(**inputs)\n",
    "    pred_label = torch.argmax(output.logits, axis=-1)\n",
    "    loss = cross_entropy(output.logits, batch[\"label\"].to(device),\n",
    "                         reduction=\"none\")\n",
    "    # Place outputs on CPU for compatibility with other dataset columns\n",
    "  return {\"loss\": loss.cpu().numpy(), \"predicted_label\": pred_label.cpu().numpy()}"
   ]
  },
  {
   "attachments": {},
   "cell_type": "markdown",
   "metadata": {},
   "source": [
    "Usando o map nós podemos aplicar essa função para pegar as losses para todas as nossas samples."
   ]
  },
  {
   "cell_type": "code",
   "execution_count": null,
   "metadata": {},
   "outputs": [
    {
     "data": {
      "application/vnd.jupyter.widget-view+json": {
       "model_id": "c339509566644a899db65887b5541ace",
       "version_major": 2,
       "version_minor": 0
      },
      "text/plain": [
       "Map:   0%|          | 0/2000 [00:00<?, ? examples/s]"
      ]
     },
     "metadata": {},
     "output_type": "display_data"
    }
   ],
   "source": [
    "# Convert our dataset back to PyTorch tensors\n",
    "emotions_encoded.set_format(\"torch\",\n",
    "                            columns=[\"input_ids\", \"attention_mask\", \"label\"])\n",
    "# Compute loss values\n",
    "emotions_encoded[\"validation\"] = emotions_encoded[\"validation\"].map(\n",
    "    forward_pass_with_label, batched=True, batch_size=16)"
   ]
  },
  {
   "attachments": {},
   "cell_type": "markdown",
   "metadata": {},
   "source": [
    "Finalmente criamos um DataFrame com os textos, losses, e predict/true labels."
   ]
  },
  {
   "cell_type": "code",
   "execution_count": null,
   "metadata": {},
   "outputs": [],
   "source": [
    "emotions_encoded.set_format(\"pandas\")\n",
    "cols = [\"text\", \"label\", \"predicted_label\", \"loss\"]\n",
    "df_test = emotions_encoded[\"validation\"][:][cols]\n",
    "df_test[\"label\"] = df_test[\"label\"].apply(label_int2str)\n",
    "df_test[\"predicted_label\"] = (df_test[\"predicted_label\"].apply(label_int2str))"
   ]
  },
  {
   "cell_type": "code",
   "execution_count": null,
   "metadata": {},
   "outputs": [
    {
     "data": {
      "text/html": [
       "<div>\n",
       "<style scoped>\n",
       "    .dataframe tbody tr th:only-of-type {\n",
       "        vertical-align: middle;\n",
       "    }\n",
       "\n",
       "    .dataframe tbody tr th {\n",
       "        vertical-align: top;\n",
       "    }\n",
       "\n",
       "    .dataframe thead th {\n",
       "        text-align: right;\n",
       "    }\n",
       "</style>\n",
       "<table border=\"1\" class=\"dataframe\">\n",
       "  <thead>\n",
       "    <tr style=\"text-align: right;\">\n",
       "      <th></th>\n",
       "      <th>text</th>\n",
       "      <th>label</th>\n",
       "      <th>predicted_label</th>\n",
       "      <th>loss</th>\n",
       "    </tr>\n",
       "  </thead>\n",
       "  <tbody>\n",
       "    <tr>\n",
       "      <th>1274</th>\n",
       "      <td>i am going to several holiday parties and i can t wait to feel super awkward i am going to several holiday parties and i can t wait to feel super awkward a href http badplaydate</td>\n",
       "      <td>joy</td>\n",
       "      <td>sadness</td>\n",
       "      <td>5.759781</td>\n",
       "    </tr>\n",
       "    <tr>\n",
       "      <th>1950</th>\n",
       "      <td>i as representative of everything thats wrong with corporate america and feel that sending him to washington is a ludicrous idea</td>\n",
       "      <td>surprise</td>\n",
       "      <td>sadness</td>\n",
       "      <td>5.590810</td>\n",
       "    </tr>\n",
       "    <tr>\n",
       "      <th>765</th>\n",
       "      <td>i feel super awkward and out of place right now</td>\n",
       "      <td>joy</td>\n",
       "      <td>sadness</td>\n",
       "      <td>5.583248</td>\n",
       "    </tr>\n",
       "    <tr>\n",
       "      <th>1500</th>\n",
       "      <td>i guess we would naturally feel a sense of loneliness even the people who said unkind things to you might be missed</td>\n",
       "      <td>anger</td>\n",
       "      <td>sadness</td>\n",
       "      <td>5.528235</td>\n",
       "    </tr>\n",
       "    <tr>\n",
       "      <th>1963</th>\n",
       "      <td>i called myself pro life and voted for perry without knowing this information i would feel betrayed but moreover i would feel that i had betrayed god by supporting a man who mandated a barely year old vaccine for little girls putting them in danger to financially support people close to him</td>\n",
       "      <td>joy</td>\n",
       "      <td>sadness</td>\n",
       "      <td>5.199363</td>\n",
       "    </tr>\n",
       "    <tr>\n",
       "      <th>882</th>\n",
       "      <td>i feel badly about reneging on my commitment to bring donuts to the faithful at holy family catholic church in columbus ohio</td>\n",
       "      <td>love</td>\n",
       "      <td>sadness</td>\n",
       "      <td>5.187963</td>\n",
       "    </tr>\n",
       "    <tr>\n",
       "      <th>465</th>\n",
       "      <td>i would eventually go in to these stores but i had to work up a lot of courage and i would still feel super uncomfortable once inside which we all know is not normal for me</td>\n",
       "      <td>joy</td>\n",
       "      <td>fear</td>\n",
       "      <td>4.888491</td>\n",
       "    </tr>\n",
       "    <tr>\n",
       "      <th>1870</th>\n",
       "      <td>i guess i feel betrayed because i admired him so much and for someone to do this to his wife and kids just goes beyond the pale</td>\n",
       "      <td>joy</td>\n",
       "      <td>sadness</td>\n",
       "      <td>4.687914</td>\n",
       "    </tr>\n",
       "    <tr>\n",
       "      <th>1111</th>\n",
       "      <td>im lazy my characters fall into categories of smug and or blas people and their foils people who feel inconvenienced by smug and or blas people</td>\n",
       "      <td>joy</td>\n",
       "      <td>fear</td>\n",
       "      <td>4.654274</td>\n",
       "    </tr>\n",
       "    <tr>\n",
       "      <th>312</th>\n",
       "      <td>i like the domestic scene salty sweet combos recipe reviews the smell of rosemary babies the feeling of having exercised hand clapping rhymes books lost teacups and laundry that has been washed dried folded and put away</td>\n",
       "      <td>sadness</td>\n",
       "      <td>joy</td>\n",
       "      <td>4.445344</td>\n",
       "    </tr>\n",
       "  </tbody>\n",
       "</table>\n",
       "</div>"
      ],
      "text/plain": [
       "                                                                                                                                                                                                                                                                                                     text   \n",
       "1274                                                                                                                    i am going to several holiday parties and i can t wait to feel super awkward i am going to several holiday parties and i can t wait to feel super awkward a href http badplaydate  \\\n",
       "1950                                                                                                                                                                     i as representative of everything thats wrong with corporate america and feel that sending him to washington is a ludicrous idea   \n",
       "765                                                                                                                                                                                                                                                       i feel super awkward and out of place right now   \n",
       "1500                                                                                                                                                                                  i guess we would naturally feel a sense of loneliness even the people who said unkind things to you might be missed   \n",
       "1963  i called myself pro life and voted for perry without knowing this information i would feel betrayed but moreover i would feel that i had betrayed god by supporting a man who mandated a barely year old vaccine for little girls putting them in danger to financially support people close to him   \n",
       "882                                                                                                                                                                          i feel badly about reneging on my commitment to bring donuts to the faithful at holy family catholic church in columbus ohio   \n",
       "465                                                                                                                          i would eventually go in to these stores but i had to work up a lot of courage and i would still feel super uncomfortable once inside which we all know is not normal for me   \n",
       "1870                                                                                                                                                                      i guess i feel betrayed because i admired him so much and for someone to do this to his wife and kids just goes beyond the pale   \n",
       "1111                                                                                                                                                      im lazy my characters fall into categories of smug and or blas people and their foils people who feel inconvenienced by smug and or blas people   \n",
       "312                                                                           i like the domestic scene salty sweet combos recipe reviews the smell of rosemary babies the feeling of having exercised hand clapping rhymes books lost teacups and laundry that has been washed dried folded and put away   \n",
       "\n",
       "         label predicted_label      loss  \n",
       "1274       joy         sadness  5.759781  \n",
       "1950  surprise         sadness  5.590810  \n",
       "765        joy         sadness  5.583248  \n",
       "1500     anger         sadness  5.528235  \n",
       "1963       joy         sadness  5.199363  \n",
       "882       love         sadness  5.187963  \n",
       "465        joy            fear  4.888491  \n",
       "1870       joy         sadness  4.687914  \n",
       "1111       joy            fear  4.654274  \n",
       "312    sadness             joy  4.445344  "
      ]
     },
     "execution_count": 130,
     "metadata": {},
     "output_type": "execute_result"
    }
   ],
   "source": [
    "pd.set_option(\"display.max_colwidth\", None)\n",
    "df_test.sort_values(\"loss\", ascending=False).head(10)\n"
   ]
  },
  {
   "attachments": {},
   "cell_type": "markdown",
   "metadata": {},
   "source": [
    "Podemos ver claramente que o modelo classificou alguns dos labels incorretamente. Por outro lado, ainda parece que tem alguns exemplos sem uma classe muito clara, que pode ter sido mislabeled ou talvez precise de uma nova classe. Em particular, Joy parece ter sido mislabeled várias vezes."
   ]
  },
  {
   "cell_type": "code",
   "execution_count": null,
   "metadata": {},
   "outputs": [
    {
     "data": {
      "text/html": [
       "<div>\n",
       "<style scoped>\n",
       "    .dataframe tbody tr th:only-of-type {\n",
       "        vertical-align: middle;\n",
       "    }\n",
       "\n",
       "    .dataframe tbody tr th {\n",
       "        vertical-align: top;\n",
       "    }\n",
       "\n",
       "    .dataframe thead th {\n",
       "        text-align: right;\n",
       "    }\n",
       "</style>\n",
       "<table border=\"1\" class=\"dataframe\">\n",
       "  <thead>\n",
       "    <tr style=\"text-align: right;\">\n",
       "      <th></th>\n",
       "      <th>text</th>\n",
       "      <th>label</th>\n",
       "      <th>predicted_label</th>\n",
       "      <th>loss</th>\n",
       "    </tr>\n",
       "  </thead>\n",
       "  <tbody>\n",
       "    <tr>\n",
       "      <th>1137</th>\n",
       "      <td>i think i may be feeling sociable</td>\n",
       "      <td>joy</td>\n",
       "      <td>joy</td>\n",
       "      <td>0.016462</td>\n",
       "    </tr>\n",
       "    <tr>\n",
       "      <th>1884</th>\n",
       "      <td>i don t exactly feel sociable still</td>\n",
       "      <td>joy</td>\n",
       "      <td>joy</td>\n",
       "      <td>0.016577</td>\n",
       "    </tr>\n",
       "    <tr>\n",
       "      <th>4</th>\n",
       "      <td>i can have for a treat or if i am feeling festive</td>\n",
       "      <td>joy</td>\n",
       "      <td>joy</td>\n",
       "      <td>0.016694</td>\n",
       "    </tr>\n",
       "    <tr>\n",
       "      <th>1154</th>\n",
       "      <td>i love feeling carefree and without all these nervous feelings shooting through my body like i just saw myself on americas most wanted</td>\n",
       "      <td>joy</td>\n",
       "      <td>joy</td>\n",
       "      <td>0.016849</td>\n",
       "    </tr>\n",
       "    <tr>\n",
       "      <th>723</th>\n",
       "      <td>i was able to go to a st party i am back feeling sociable and i really hope to get back into going to the munch but that requires a walk a min bus journey another walk then the munch and then all that back again which at the moment is a little too much</td>\n",
       "      <td>joy</td>\n",
       "      <td>joy</td>\n",
       "      <td>0.017020</td>\n",
       "    </tr>\n",
       "    <tr>\n",
       "      <th>1873</th>\n",
       "      <td>i feel practically virtuous this month i have not exceeded my target of only buying things</td>\n",
       "      <td>joy</td>\n",
       "      <td>joy</td>\n",
       "      <td>0.017113</td>\n",
       "    </tr>\n",
       "    <tr>\n",
       "      <th>1020</th>\n",
       "      <td>i feel that the content i have in mind isnt really that great after all</td>\n",
       "      <td>joy</td>\n",
       "      <td>joy</td>\n",
       "      <td>0.017116</td>\n",
       "    </tr>\n",
       "    <tr>\n",
       "      <th>1622</th>\n",
       "      <td>i feel that it was a good investment to make this building into a restaurant</td>\n",
       "      <td>joy</td>\n",
       "      <td>joy</td>\n",
       "      <td>0.017135</td>\n",
       "    </tr>\n",
       "    <tr>\n",
       "      <th>19</th>\n",
       "      <td>i had lunch with an old friend and it was nice but in general im not feeling energetic</td>\n",
       "      <td>joy</td>\n",
       "      <td>joy</td>\n",
       "      <td>0.017255</td>\n",
       "    </tr>\n",
       "    <tr>\n",
       "      <th>1976</th>\n",
       "      <td>i trust heavily when i feel that the trust is worthwhile</td>\n",
       "      <td>joy</td>\n",
       "      <td>joy</td>\n",
       "      <td>0.017419</td>\n",
       "    </tr>\n",
       "  </tbody>\n",
       "</table>\n",
       "</div>"
      ],
      "text/plain": [
       "                                                                                                                                                                                                                                                              text   \n",
       "1137                                                                                                                                                                                                                             i think i may be feeling sociable  \\\n",
       "1884                                                                                                                                                                                                                           i don t exactly feel sociable still   \n",
       "4                                                                                                                                                                                                                i can have for a treat or if i am feeling festive   \n",
       "1154                                                                                                                        i love feeling carefree and without all these nervous feelings shooting through my body like i just saw myself on americas most wanted   \n",
       "723   i was able to go to a st party i am back feeling sociable and i really hope to get back into going to the munch but that requires a walk a min bus journey another walk then the munch and then all that back again which at the moment is a little too much   \n",
       "1873                                                                                                                                                                    i feel practically virtuous this month i have not exceeded my target of only buying things   \n",
       "1020                                                                                                                                                                                       i feel that the content i have in mind isnt really that great after all   \n",
       "1622                                                                                                                                                                                  i feel that it was a good investment to make this building into a restaurant   \n",
       "19                                                                                                                                                                          i had lunch with an old friend and it was nice but in general im not feeling energetic   \n",
       "1976                                                                                                                                                                                                      i trust heavily when i feel that the trust is worthwhile   \n",
       "\n",
       "     label predicted_label      loss  \n",
       "1137   joy             joy  0.016462  \n",
       "1884   joy             joy  0.016577  \n",
       "4      joy             joy  0.016694  \n",
       "1154   joy             joy  0.016849  \n",
       "723    joy             joy  0.017020  \n",
       "1873   joy             joy  0.017113  \n",
       "1020   joy             joy  0.017116  \n",
       "1622   joy             joy  0.017135  \n",
       "19     joy             joy  0.017255  \n",
       "1976   joy             joy  0.017419  "
      ]
     },
     "execution_count": 131,
     "metadata": {},
     "output_type": "execute_result"
    }
   ],
   "source": [
    "df_test.sort_values(\"loss\", ascending=True).head(10)"
   ]
  },
  {
   "attachments": {},
   "cell_type": "markdown",
   "metadata": {},
   "source": [
    "Podemos ver que nos menores losses o modelo parece ter sido bem confiante quanto a sadness. Modelos de deep learning são bons em tentar achar corta caminhos para retornar um output.  \n",
    "Sabendo que Joy e Sadness levantam esses pontos, podemos tomar atitudes para melhorar nosso dataset."
   ]
  },
  {
   "cell_type": "code",
   "execution_count": null,
   "metadata": {},
   "outputs": [
    {
     "data": {
      "image/png": "[encoded data removed]",
      "text/plain": [
       "<Figure size 640x480 with 1 Axes>"
      ]
     },
     "metadata": {},
     "output_type": "display_data"
    }
   ],
   "source": [
    "from transformers import pipeline\n",
    "\n",
    "classifier = pipeline(\"text-classification\", model=model, tokenizer=tokenizer)\n",
    "\n",
    "custom_text = \"Soon I'll get a public job from defending this guy so much This bastard is paving the whole of Rj, the works on Av Brasil are at least back, a shitload of yellow brt on the street There are a lot of things to improve in terms of infrastructure in the city, but it has already improved by 40%\" # elon musks tweet\n",
    "preds = classifier(custom_text, return_all_scores=True)\n",
    "\n",
    "preds_df = pd.DataFrame(preds)\n",
    "plt.bar(labels, 100 * preds_df[\"score\"], color='C0')\n",
    "plt.title(f'\"{custom_text}\"')\n",
    "plt.ylabel(\"Class probability (%)\")\n",
    "plt.show()"
   ]
  },
  {
   "cell_type": "code",
   "execution_count": null,
   "metadata": {},
   "outputs": [
    {
     "data": {
      "text/plain": [
       "(149, 16)"
      ]
     },
     "execution_count": 164,
     "metadata": {},
     "output_type": "execute_result"
    }
   ],
   "source": [
    "tweets_df = pd.read_excel(\"brt_amarelo.xlsx\")\n",
    "\n",
    "#remover duplicados\n",
    "tweets_df.drop_duplicates(subset=['content'], inplace=True)\n",
    "\n",
    "#vamos definir que os tweets com mais likes sao os mais levantes\n",
    "tweets_df.sort_values(\"likes\", ascending=False).head(10)\n",
    "\n",
    "tweets_df.shape"
   ]
  },
  {
   "cell_type": "code",
   "execution_count": null,
   "metadata": {},
   "outputs": [],
   "source": [
    "from google.cloud import translate_v2 as translate\n",
    "\n",
    "translate_client = translate.Client.from_service_account_json(\"tribal-pad-390501-ee1f8f9225cb.json\")\n",
    "\n",
    "def translate_text(text, target=\"en\"):\n",
    "  if isinstance(text, bytes):\n",
    "    text = text.decode(\"utf-8\")\n",
    "  result = translate_client.translate(text, target_language=target)\n",
    "  return result[\"translatedText\"]\n",
    "\n",
    "tweets_df[\"content_en\"] = tweets_df[\"content\"].apply(translate_text)"
   ]
  },
  {
   "cell_type": "code",
   "execution_count": null,
   "metadata": {},
   "outputs": [
    {
     "data": {
      "text/html": [
       "<div>\n",
       "<style scoped>\n",
       "    .dataframe tbody tr th:only-of-type {\n",
       "        vertical-align: middle;\n",
       "    }\n",
       "\n",
       "    .dataframe tbody tr th {\n",
       "        vertical-align: top;\n",
       "    }\n",
       "\n",
       "    .dataframe thead th {\n",
       "        text-align: right;\n",
       "    }\n",
       "</style>\n",
       "<table border=\"1\" class=\"dataframe\">\n",
       "  <thead>\n",
       "    <tr style=\"text-align: right;\">\n",
       "      <th></th>\n",
       "      <th>tweet_id</th>\n",
       "      <th>username</th>\n",
       "      <th>name</th>\n",
       "      <th>profile_picture</th>\n",
       "      <th>replies</th>\n",
       "      <th>retweets</th>\n",
       "      <th>likes</th>\n",
       "      <th>is_retweet</th>\n",
       "      <th>posted_time</th>\n",
       "      <th>content</th>\n",
       "      <th>hashtags</th>\n",
       "      <th>mentions</th>\n",
       "      <th>images</th>\n",
       "      <th>videos</th>\n",
       "      <th>tweet_url</th>\n",
       "      <th>link</th>\n",
       "      <th>content_en</th>\n",
       "    </tr>\n",
       "  </thead>\n",
       "  <tbody>\n",
       "    <tr>\n",
       "      <th>0</th>\n",
       "      <td>1630963373234876416</td>\n",
       "      <td>igordosus</td>\n",
       "      <td>Igor do SUS</td>\n",
       "      <td>https://pbs.twimg.com/profile_images/1598351115694874625/TkSni6sH_bigger.jpg</td>\n",
       "      <td>56</td>\n",
       "      <td>109</td>\n",
       "      <td>1366.0</td>\n",
       "      <td>False</td>\n",
       "      <td>2023-03-01 13:09:04</td>\n",
       "      <td>Gente, MILAGRE!!!!\\n\\nTá rodando um BRT amarelo novo com ar condicionado, sai até voz automática igual aquela do metrô \"porta de fechando\". Parece q adicionaram uma nova linha (38) q vai só até o Fundão tbm.\\n\\nCARALHO, EU TO CHOCADO</td>\n",
       "      <td>[]</td>\n",
       "      <td>[]</td>\n",
       "      <td>[]</td>\n",
       "      <td>[]</td>\n",
       "      <td>https://twitter.com/igordosus/status/1630963373234876416</td>\n",
       "      <td>NaN</td>\n",
       "      <td>People, MIRACLE!!!! A new yellow BRT with air conditioning is running, it even comes out with an automatic voice like the one on the subway &amp;quot;closing door&amp;quot;. It seems that they added a new line (38) that goes only to Fundão too. FUCK, I&amp;#39;M SHOCKED</td>\n",
       "    </tr>\n",
       "    <tr>\n",
       "      <th>1</th>\n",
       "      <td>1648732790874054656</td>\n",
       "      <td>diesonnenlicht</td>\n",
       "      <td>Curadora de Diversidade da Farofa</td>\n",
       "      <td>https://pbs.twimg.com/profile_images/1646615495330725888/WYxxw5pL_bigger.jpg</td>\n",
       "      <td>3</td>\n",
       "      <td>5</td>\n",
       "      <td>18.0</td>\n",
       "      <td>False</td>\n",
       "      <td>2023-04-19 13:58:23</td>\n",
       "      <td>Um minuto de silêncio para apreciarmos a superioridade do BRT amarelo.</td>\n",
       "      <td>[]</td>\n",
       "      <td>[]</td>\n",
       "      <td>['https://pbs.twimg.com/ext_tw_video_thumb/1648732688960847872/pu/img/G3YBcp-nJe737Bjt.jpg']</td>\n",
       "      <td>['blob:https://twitter.com/dedeaaee-43b0-4b46-954a-7f5bafdbc1cb']</td>\n",
       "      <td>https://twitter.com/diesonnenlicht/status/1648732790874054656</td>\n",
       "      <td>NaN</td>\n",
       "      <td>A minute of silence to appreciate the superiority of the yellow BRT.</td>\n",
       "    </tr>\n",
       "    <tr>\n",
       "      <th>2</th>\n",
       "      <td>1653372392872329216</td>\n",
       "      <td>naoculpeopedro</td>\n",
       "      <td>incidente fecal no sbt</td>\n",
       "      <td>https://pbs.twimg.com/profile_images/1665218822314311681/pSU4JuwV_bigger.jpg</td>\n",
       "      <td>2</td>\n",
       "      <td>1</td>\n",
       "      <td>10.0</td>\n",
       "      <td>False</td>\n",
       "      <td>2023-05-02 09:14:31</td>\n",
       "      <td>ele chegou\\n\\no BRT amarelo chegou na zona oeste</td>\n",
       "      <td>[]</td>\n",
       "      <td>[]</td>\n",
       "      <td>['https://pbs.twimg.com/media/FvH1bOnXsAA1TOX?format=jpg&amp;name=small']</td>\n",
       "      <td>[]</td>\n",
       "      <td>https://twitter.com/naoculpeopedro/status/1653372392872329219</td>\n",
       "      <td>NaN</td>\n",
       "      <td>he arrived the yellow BRT arrived in the west zone</td>\n",
       "    </tr>\n",
       "    <tr>\n",
       "      <th>3</th>\n",
       "      <td>1641951081759404032</td>\n",
       "      <td>naoculpeopedro</td>\n",
       "      <td>incidente fecal no sbt</td>\n",
       "      <td>https://pbs.twimg.com/profile_images/1665218822314311681/pSU4JuwV_bigger.jpg</td>\n",
       "      <td>2</td>\n",
       "      <td>0</td>\n",
       "      <td>22.0</td>\n",
       "      <td>False</td>\n",
       "      <td>2023-03-31 20:50:18</td>\n",
       "      <td>como é bonito o BRT amarelo parabéns a todos</td>\n",
       "      <td>[]</td>\n",
       "      <td>[]</td>\n",
       "      <td>['https://pbs.twimg.com/media/FslhzXSXsAEnsgy?format=jpg&amp;name=small']</td>\n",
       "      <td>[]</td>\n",
       "      <td>https://twitter.com/naoculpeopedro/status/1641951081759404032</td>\n",
       "      <td>NaN</td>\n",
       "      <td>how beautiful is the yellow BRT congratulations to all</td>\n",
       "    </tr>\n",
       "    <tr>\n",
       "      <th>4</th>\n",
       "      <td>1630955804705652736</td>\n",
       "      <td>zwnetti</td>\n",
       "      <td>pedro</td>\n",
       "      <td>https://pbs.twimg.com/profile_images/1665938660494024704/O0gCcbn5_bigger.jpg</td>\n",
       "      <td>1</td>\n",
       "      <td>1</td>\n",
       "      <td>10.0</td>\n",
       "      <td>False</td>\n",
       "      <td>2023-03-01 12:39:00</td>\n",
       "      <td>EU VI UM BRT AMARELO NA ESTAÇAO DE OLARIA, EU NAO TO MALUCO</td>\n",
       "      <td>[]</td>\n",
       "      <td>[]</td>\n",
       "      <td>[]</td>\n",
       "      <td>[]</td>\n",
       "      <td>https://twitter.com/zwnetti/status/1630955804705652739</td>\n",
       "      <td>NaN</td>\n",
       "      <td>I SAW A YELLOW BRT AT THE STATION OF OLARIA, I&amp;#39;M NOT CRAZY</td>\n",
       "    </tr>\n",
       "  </tbody>\n",
       "</table>\n",
       "</div>"
      ],
      "text/plain": [
       "              tweet_id        username                               name   \n",
       "0  1630963373234876416       igordosus                        Igor do SUS  \\\n",
       "1  1648732790874054656  diesonnenlicht  Curadora de Diversidade da Farofa   \n",
       "2  1653372392872329216  naoculpeopedro             incidente fecal no sbt   \n",
       "3  1641951081759404032  naoculpeopedro             incidente fecal no sbt   \n",
       "4  1630955804705652736         zwnetti                              pedro   \n",
       "\n",
       "                                                                profile_picture   \n",
       "0  https://pbs.twimg.com/profile_images/1598351115694874625/TkSni6sH_bigger.jpg  \\\n",
       "1  https://pbs.twimg.com/profile_images/1646615495330725888/WYxxw5pL_bigger.jpg   \n",
       "2  https://pbs.twimg.com/profile_images/1665218822314311681/pSU4JuwV_bigger.jpg   \n",
       "3  https://pbs.twimg.com/profile_images/1665218822314311681/pSU4JuwV_bigger.jpg   \n",
       "4  https://pbs.twimg.com/profile_images/1665938660494024704/O0gCcbn5_bigger.jpg   \n",
       "\n",
       "   replies  retweets   likes  is_retweet         posted_time   \n",
       "0       56       109  1366.0       False 2023-03-01 13:09:04  \\\n",
       "1        3         5    18.0       False 2023-04-19 13:58:23   \n",
       "2        2         1    10.0       False 2023-05-02 09:14:31   \n",
       "3        2         0    22.0       False 2023-03-31 20:50:18   \n",
       "4        1         1    10.0       False 2023-03-01 12:39:00   \n",
       "\n",
       "                                                                                                                                                                                                                                     content   \n",
       "0  Gente, MILAGRE!!!!\\n\\nTá rodando um BRT amarelo novo com ar condicionado, sai até voz automática igual aquela do metrô \"porta de fechando\". Parece q adicionaram uma nova linha (38) q vai só até o Fundão tbm.\\n\\nCARALHO, EU TO CHOCADO  \\\n",
       "1                                                                                                                                                                     Um minuto de silêncio para apreciarmos a superioridade do BRT amarelo.   \n",
       "2                                                                                                                                                                                           ele chegou\\n\\no BRT amarelo chegou na zona oeste   \n",
       "3                                                                                                                                                                                              como é bonito o BRT amarelo parabéns a todos    \n",
       "4                                                                                                                                                                                EU VI UM BRT AMARELO NA ESTAÇAO DE OLARIA, EU NAO TO MALUCO   \n",
       "\n",
       "  hashtags mentions   \n",
       "0       []       []  \\\n",
       "1       []       []   \n",
       "2       []       []   \n",
       "3       []       []   \n",
       "4       []       []   \n",
       "\n",
       "                                                                                         images   \n",
       "0                                                                                            []  \\\n",
       "1  ['https://pbs.twimg.com/ext_tw_video_thumb/1648732688960847872/pu/img/G3YBcp-nJe737Bjt.jpg']   \n",
       "2                         ['https://pbs.twimg.com/media/FvH1bOnXsAA1TOX?format=jpg&name=small']   \n",
       "3                         ['https://pbs.twimg.com/media/FslhzXSXsAEnsgy?format=jpg&name=small']   \n",
       "4                                                                                            []   \n",
       "\n",
       "                                                              videos   \n",
       "0                                                                 []  \\\n",
       "1  ['blob:https://twitter.com/dedeaaee-43b0-4b46-954a-7f5bafdbc1cb']   \n",
       "2                                                                 []   \n",
       "3                                                                 []   \n",
       "4                                                                 []   \n",
       "\n",
       "                                                       tweet_url  link   \n",
       "0       https://twitter.com/igordosus/status/1630963373234876416   NaN  \\\n",
       "1  https://twitter.com/diesonnenlicht/status/1648732790874054656   NaN   \n",
       "2  https://twitter.com/naoculpeopedro/status/1653372392872329219   NaN   \n",
       "3  https://twitter.com/naoculpeopedro/status/1641951081759404032   NaN   \n",
       "4         https://twitter.com/zwnetti/status/1630955804705652739   NaN   \n",
       "\n",
       "                                                                                                                                                                                                                                                           content_en  \n",
       "0  People, MIRACLE!!!! A new yellow BRT with air conditioning is running, it even comes out with an automatic voice like the one on the subway &quot;closing door&quot;. It seems that they added a new line (38) that goes only to Fundão too. FUCK, I&#39;M SHOCKED  \n",
       "1                                                                                                                                                                                                A minute of silence to appreciate the superiority of the yellow BRT.  \n",
       "2                                                                                                                                                                                                                  he arrived the yellow BRT arrived in the west zone  \n",
       "3                                                                                                                                                                                                              how beautiful is the yellow BRT congratulations to all  \n",
       "4                                                                                                                                                                                                      I SAW A YELLOW BRT AT THE STATION OF OLARIA, I&#39;M NOT CRAZY  "
      ]
     },
     "execution_count": 205,
     "metadata": {},
     "output_type": "execute_result"
    }
   ],
   "source": [
    "tweets_df.head()"
   ]
  },
  {
   "cell_type": "code",
   "execution_count": null,
   "metadata": {},
   "outputs": [
    {
     "name": "stdout",
     "output_type": "stream",
     "text": [
      "Original text: People, MIRACLE!!!! A new yellow BRT with air conditioning is running, it even comes out with an automatic voice like the one on the subway &quot;closing door&quot;. It seems that they added a new line (38) that goes only to Fundão too. FUCK, I&#39;M SHOCKED\n"
     ]
    }
   ],
   "source": [
    "\n",
    "text = tweets_df.head()[[\"content\", \"content_en\"]].values.tolist()[0]\n",
    "print(f\"Original text: {text[1]}\")"
   ]
  },
  {
   "cell_type": "code",
   "execution_count": null,
   "metadata": {},
   "outputs": [
    {
     "data": {
      "text/html": [
       "<div>\n",
       "<style scoped>\n",
       "    .dataframe tbody tr th:only-of-type {\n",
       "        vertical-align: middle;\n",
       "    }\n",
       "\n",
       "    .dataframe tbody tr th {\n",
       "        vertical-align: top;\n",
       "    }\n",
       "\n",
       "    .dataframe thead th {\n",
       "        text-align: right;\n",
       "    }\n",
       "</style>\n",
       "<table border=\"1\" class=\"dataframe\">\n",
       "  <thead>\n",
       "    <tr style=\"text-align: right;\">\n",
       "      <th></th>\n",
       "      <th>username</th>\n",
       "      <th>content</th>\n",
       "      <th>content_en</th>\n",
       "    </tr>\n",
       "  </thead>\n",
       "  <tbody>\n",
       "    <tr>\n",
       "      <th>0</th>\n",
       "      <td>igordosus</td>\n",
       "      <td>Gente, MILAGRE!!!!\\n\\nTá rodando um BRT amarelo novo com ar condicionado, sai até voz automática igual aquela do metrô \"porta de fechando\". Parece q adicionaram uma nova linha (38) q vai só até o Fundão tbm.\\n\\nCARALHO, EU TO CHOCADO</td>\n",
       "      <td>People, MIRACLE!!!! A new yellow BRT with air conditioning is running, it even comes out with an automatic voice like the one on the subway &amp;quot;closing door&amp;quot;. It seems that they added a new line (38) that goes only to Fundão too. FUCK, I&amp;#39;M SHOCKED</td>\n",
       "    </tr>\n",
       "    <tr>\n",
       "      <th>1</th>\n",
       "      <td>diesonnenlicht</td>\n",
       "      <td>Um minuto de silêncio para apreciarmos a superioridade do BRT amarelo.</td>\n",
       "      <td>A minute of silence to appreciate the superiority of the yellow BRT.</td>\n",
       "    </tr>\n",
       "    <tr>\n",
       "      <th>2</th>\n",
       "      <td>naoculpeopedro</td>\n",
       "      <td>ele chegou\\n\\no BRT amarelo chegou na zona oeste</td>\n",
       "      <td>he arrived the yellow BRT arrived in the west zone</td>\n",
       "    </tr>\n",
       "    <tr>\n",
       "      <th>3</th>\n",
       "      <td>naoculpeopedro</td>\n",
       "      <td>como é bonito o BRT amarelo parabéns a todos</td>\n",
       "      <td>how beautiful is the yellow BRT congratulations to all</td>\n",
       "    </tr>\n",
       "    <tr>\n",
       "      <th>4</th>\n",
       "      <td>zwnetti</td>\n",
       "      <td>EU VI UM BRT AMARELO NA ESTAÇAO DE OLARIA, EU NAO TO MALUCO</td>\n",
       "      <td>I SAW A YELLOW BRT AT THE STATION OF OLARIA, I&amp;#39;M NOT CRAZY</td>\n",
       "    </tr>\n",
       "  </tbody>\n",
       "</table>\n",
       "</div>"
      ],
      "text/plain": [
       "         username   \n",
       "0       igordosus  \\\n",
       "1  diesonnenlicht   \n",
       "2  naoculpeopedro   \n",
       "3  naoculpeopedro   \n",
       "4         zwnetti   \n",
       "\n",
       "                                                                                                                                                                                                                                     content   \n",
       "0  Gente, MILAGRE!!!!\\n\\nTá rodando um BRT amarelo novo com ar condicionado, sai até voz automática igual aquela do metrô \"porta de fechando\". Parece q adicionaram uma nova linha (38) q vai só até o Fundão tbm.\\n\\nCARALHO, EU TO CHOCADO  \\\n",
       "1                                                                                                                                                                     Um minuto de silêncio para apreciarmos a superioridade do BRT amarelo.   \n",
       "2                                                                                                                                                                                           ele chegou\\n\\no BRT amarelo chegou na zona oeste   \n",
       "3                                                                                                                                                                                              como é bonito o BRT amarelo parabéns a todos    \n",
       "4                                                                                                                                                                                EU VI UM BRT AMARELO NA ESTAÇAO DE OLARIA, EU NAO TO MALUCO   \n",
       "\n",
       "                                                                                                                                                                                                                                                           content_en  \n",
       "0  People, MIRACLE!!!! A new yellow BRT with air conditioning is running, it even comes out with an automatic voice like the one on the subway &quot;closing door&quot;. It seems that they added a new line (38) that goes only to Fundão too. FUCK, I&#39;M SHOCKED  \n",
       "1                                                                                                                                                                                                A minute of silence to appreciate the superiority of the yellow BRT.  \n",
       "2                                                                                                                                                                                                                  he arrived the yellow BRT arrived in the west zone  \n",
       "3                                                                                                                                                                                                              how beautiful is the yellow BRT congratulations to all  \n",
       "4                                                                                                                                                                                                      I SAW A YELLOW BRT AT THE STATION OF OLARIA, I&#39;M NOT CRAZY  "
      ]
     },
     "execution_count": 188,
     "metadata": {},
     "output_type": "execute_result"
    }
   ],
   "source": [
    "tweets_df_en = tweets_df[[\"username\", \"content\", \"content_en\"]].copy()\n",
    "\n",
    "tweets_df_en.head()"
   ]
  },
  {
   "cell_type": "code",
   "execution_count": null,
   "metadata": {},
   "outputs": [
    {
     "data": {
      "image/png": "[encoded data removed]",
      "text/plain": [
       "<Figure size 640x480 with 1 Axes>"
      ]
     },
     "metadata": {},
     "output_type": "display_data"
    }
   ],
   "source": [
    "df[\"Words per Tweet\"] = tweets_df_en[\"content_en\"].str.split().apply(len)\n",
    "df.boxplot(column=\"Words per Tweet\", by=\"label_name\", grid=False, showfliers=False, color=\"black\")\n",
    "plt.suptitle(\"\")\n",
    "plt.xlabel(\"\")\n",
    "plt.show()"
   ]
  },
  {
   "cell_type": "code",
   "execution_count": null,
   "metadata": {},
   "outputs": [],
   "source": [
    "import html\n",
    "\n",
    "def remove_html(text):\n",
    "  return html.unescape(text)\n",
    "\n",
    "tweets_df_en[\"content_en\"] = tweets_df_en[\"content_en\"].apply(remove_html)"
   ]
  },
  {
   "cell_type": "code",
   "execution_count": null,
   "metadata": {},
   "outputs": [
    {
     "data": {
      "text/html": [
       "<div>\n",
       "<style scoped>\n",
       "    .dataframe tbody tr th:only-of-type {\n",
       "        vertical-align: middle;\n",
       "    }\n",
       "\n",
       "    .dataframe tbody tr th {\n",
       "        vertical-align: top;\n",
       "    }\n",
       "\n",
       "    .dataframe thead th {\n",
       "        text-align: right;\n",
       "    }\n",
       "</style>\n",
       "<table border=\"1\" class=\"dataframe\">\n",
       "  <thead>\n",
       "    <tr style=\"text-align: right;\">\n",
       "      <th></th>\n",
       "      <th>username</th>\n",
       "      <th>content</th>\n",
       "      <th>content_en</th>\n",
       "    </tr>\n",
       "  </thead>\n",
       "  <tbody>\n",
       "    <tr>\n",
       "      <th>0</th>\n",
       "      <td>igordosus</td>\n",
       "      <td>Gente, MILAGRE!!!!\\n\\nTá rodando um BRT amarelo novo com ar condicionado, sai até voz automática igual aquela do metrô \"porta de fechando\". Parece q adicionaram uma nova linha (38) q vai só até o Fundão tbm.\\n\\nCARALHO, EU TO CHOCADO</td>\n",
       "      <td>People, MIRACLE!!!! A new yellow BRT with air conditioning is running, it even comes out with an automatic voice like the one on the subway \"closing door\". It seems that they added a new line (38) that goes only to Fundão too. FUCK, I'M SHOCKED</td>\n",
       "    </tr>\n",
       "    <tr>\n",
       "      <th>1</th>\n",
       "      <td>diesonnenlicht</td>\n",
       "      <td>Um minuto de silêncio para apreciarmos a superioridade do BRT amarelo.</td>\n",
       "      <td>A minute of silence to appreciate the superiority of the yellow BRT.</td>\n",
       "    </tr>\n",
       "    <tr>\n",
       "      <th>2</th>\n",
       "      <td>naoculpeopedro</td>\n",
       "      <td>ele chegou\\n\\no BRT amarelo chegou na zona oeste</td>\n",
       "      <td>he arrived the yellow BRT arrived in the west zone</td>\n",
       "    </tr>\n",
       "    <tr>\n",
       "      <th>3</th>\n",
       "      <td>naoculpeopedro</td>\n",
       "      <td>como é bonito o BRT amarelo parabéns a todos</td>\n",
       "      <td>how beautiful is the yellow BRT congratulations to all</td>\n",
       "    </tr>\n",
       "    <tr>\n",
       "      <th>4</th>\n",
       "      <td>zwnetti</td>\n",
       "      <td>EU VI UM BRT AMARELO NA ESTAÇAO DE OLARIA, EU NAO TO MALUCO</td>\n",
       "      <td>I SAW A YELLOW BRT AT THE STATION OF OLARIA, I'M NOT CRAZY</td>\n",
       "    </tr>\n",
       "  </tbody>\n",
       "</table>\n",
       "</div>"
      ],
      "text/plain": [
       "         username   \n",
       "0       igordosus  \\\n",
       "1  diesonnenlicht   \n",
       "2  naoculpeopedro   \n",
       "3  naoculpeopedro   \n",
       "4         zwnetti   \n",
       "\n",
       "                                                                                                                                                                                                                                     content   \n",
       "0  Gente, MILAGRE!!!!\\n\\nTá rodando um BRT amarelo novo com ar condicionado, sai até voz automática igual aquela do metrô \"porta de fechando\". Parece q adicionaram uma nova linha (38) q vai só até o Fundão tbm.\\n\\nCARALHO, EU TO CHOCADO  \\\n",
       "1                                                                                                                                                                     Um minuto de silêncio para apreciarmos a superioridade do BRT amarelo.   \n",
       "2                                                                                                                                                                                           ele chegou\\n\\no BRT amarelo chegou na zona oeste   \n",
       "3                                                                                                                                                                                              como é bonito o BRT amarelo parabéns a todos    \n",
       "4                                                                                                                                                                                EU VI UM BRT AMARELO NA ESTAÇAO DE OLARIA, EU NAO TO MALUCO   \n",
       "\n",
       "                                                                                                                                                                                                                                             content_en  \n",
       "0  People, MIRACLE!!!! A new yellow BRT with air conditioning is running, it even comes out with an automatic voice like the one on the subway \"closing door\". It seems that they added a new line (38) that goes only to Fundão too. FUCK, I'M SHOCKED  \n",
       "1                                                                                                                                                                                  A minute of silence to appreciate the superiority of the yellow BRT.  \n",
       "2                                                                                                                                                                                                    he arrived the yellow BRT arrived in the west zone  \n",
       "3                                                                                                                                                                                                how beautiful is the yellow BRT congratulations to all  \n",
       "4                                                                                                                                                                                            I SAW A YELLOW BRT AT THE STATION OF OLARIA, I'M NOT CRAZY  "
      ]
     },
     "execution_count": 190,
     "metadata": {},
     "output_type": "execute_result"
    }
   ],
   "source": [
    "tweets_df_en.head()"
   ]
  },
  {
   "cell_type": "code",
   "execution_count": null,
   "metadata": {},
   "outputs": [
    {
     "name": "stderr",
     "output_type": "stream",
     "text": [
      "/Users/petropolis/Library/Python/3.9/lib/python/site-packages/transformers/pipelines/text_classification.py:89: UserWarning: `return_all_scores` is now deprecated, use `top_k=1` if you want similar functionnality\n",
      "  warnings.warn(\n"
     ]
    }
   ],
   "source": [
    "def classify_text(text):\n",
    "  preds = classifier(text, return_all_scores=True)\n",
    "  return preds\n",
    "\n",
    "tweets_df_en[\"preds\"] = tweets_df_en[\"content_en\"].apply(classify_text)"
   ]
  },
  {
   "cell_type": "code",
   "execution_count": null,
   "metadata": {},
   "outputs": [
    {
     "data": {
      "text/html": [
       "<div>\n",
       "<style scoped>\n",
       "    .dataframe tbody tr th:only-of-type {\n",
       "        vertical-align: middle;\n",
       "    }\n",
       "\n",
       "    .dataframe tbody tr th {\n",
       "        vertical-align: top;\n",
       "    }\n",
       "\n",
       "    .dataframe thead th {\n",
       "        text-align: right;\n",
       "    }\n",
       "</style>\n",
       "<table border=\"1\" class=\"dataframe\">\n",
       "  <thead>\n",
       "    <tr style=\"text-align: right;\">\n",
       "      <th></th>\n",
       "      <th>username</th>\n",
       "      <th>content</th>\n",
       "      <th>content_en</th>\n",
       "      <th>preds</th>\n",
       "    </tr>\n",
       "  </thead>\n",
       "  <tbody>\n",
       "    <tr>\n",
       "      <th>0</th>\n",
       "      <td>igordosus</td>\n",
       "      <td>Gente, MILAGRE!!!!\\n\\nTá rodando um BRT amarelo novo com ar condicionado, sai até voz automática igual aquela do metrô \"porta de fechando\". Parece q adicionaram uma nova linha (38) q vai só até o Fundão tbm.\\n\\nCARALHO, EU TO CHOCADO</td>\n",
       "      <td>People, MIRACLE!!!! A new yellow BRT with air conditioning is running, it even comes out with an automatic voice like the one on the subway \"closing door\". It seems that they added a new line (38) that goes only to Fundão too. FUCK, I'M SHOCKED</td>\n",
       "      <td>[{'label': 'LABEL_0', 'score': 0.01208643987774849}, {'label': 'LABEL_1', 'score': 0.03583541512489319}, {'label': 'LABEL_2', 'score': 0.017782559618353844}, {'label': 'LABEL_3', 'score': 0.03202025219798088}, {'label': 'LABEL_4', 'score': 0.13683666288852692}, {'label': 'LABEL_5', 'score': 0.7654386758804321}]</td>\n",
       "    </tr>\n",
       "    <tr>\n",
       "      <th>1</th>\n",
       "      <td>diesonnenlicht</td>\n",
       "      <td>Um minuto de silêncio para apreciarmos a superioridade do BRT amarelo.</td>\n",
       "      <td>A minute of silence to appreciate the superiority of the yellow BRT.</td>\n",
       "      <td>[{'label': 'LABEL_0', 'score': 0.00570283317938447}, {'label': 'LABEL_1', 'score': 0.9415447115898132}, {'label': 'LABEL_2', 'score': 0.036612723022699356}, {'label': 'LABEL_3', 'score': 0.005257464945316315}, {'label': 'LABEL_4', 'score': 0.0030774453189224005}, {'label': 'LABEL_5', 'score': 0.0078048123978078365}]</td>\n",
       "    </tr>\n",
       "    <tr>\n",
       "      <th>2</th>\n",
       "      <td>naoculpeopedro</td>\n",
       "      <td>ele chegou\\n\\no BRT amarelo chegou na zona oeste</td>\n",
       "      <td>he arrived the yellow BRT arrived in the west zone</td>\n",
       "      <td>[{'label': 'LABEL_0', 'score': 0.1383206993341446}, {'label': 'LABEL_1', 'score': 0.441482812166214}, {'label': 'LABEL_2', 'score': 0.02944326214492321}, {'label': 'LABEL_3', 'score': 0.19219377636909485}, {'label': 'LABEL_4', 'score': 0.16279572248458862}, {'label': 'LABEL_5', 'score': 0.03576365485787392}]</td>\n",
       "    </tr>\n",
       "    <tr>\n",
       "      <th>3</th>\n",
       "      <td>naoculpeopedro</td>\n",
       "      <td>como é bonito o BRT amarelo parabéns a todos</td>\n",
       "      <td>how beautiful is the yellow BRT congratulations to all</td>\n",
       "      <td>[{'label': 'LABEL_0', 'score': 0.006498504430055618}, {'label': 'LABEL_1', 'score': 0.8433584570884705}, {'label': 'LABEL_2', 'score': 0.12388654798269272}, {'label': 'LABEL_3', 'score': 0.006026086863130331}, {'label': 'LABEL_4', 'score': 0.004393021110445261}, {'label': 'LABEL_5', 'score': 0.01583748869597912}]</td>\n",
       "    </tr>\n",
       "    <tr>\n",
       "      <th>4</th>\n",
       "      <td>zwnetti</td>\n",
       "      <td>EU VI UM BRT AMARELO NA ESTAÇAO DE OLARIA, EU NAO TO MALUCO</td>\n",
       "      <td>I SAW A YELLOW BRT AT THE STATION OF OLARIA, I'M NOT CRAZY</td>\n",
       "      <td>[{'label': 'LABEL_0', 'score': 0.024928903207182884}, {'label': 'LABEL_1', 'score': 0.028713634237647057}, {'label': 'LABEL_2', 'score': 0.008353550918400288}, {'label': 'LABEL_3', 'score': 0.20771729946136475}, {'label': 'LABEL_4', 'score': 0.6509366631507874}, {'label': 'LABEL_5', 'score': 0.07934996485710144}]</td>\n",
       "    </tr>\n",
       "  </tbody>\n",
       "</table>\n",
       "</div>"
      ],
      "text/plain": [
       "         username   \n",
       "0       igordosus  \\\n",
       "1  diesonnenlicht   \n",
       "2  naoculpeopedro   \n",
       "3  naoculpeopedro   \n",
       "4         zwnetti   \n",
       "\n",
       "                                                                                                                                                                                                                                     content   \n",
       "0  Gente, MILAGRE!!!!\\n\\nTá rodando um BRT amarelo novo com ar condicionado, sai até voz automática igual aquela do metrô \"porta de fechando\". Parece q adicionaram uma nova linha (38) q vai só até o Fundão tbm.\\n\\nCARALHO, EU TO CHOCADO  \\\n",
       "1                                                                                                                                                                     Um minuto de silêncio para apreciarmos a superioridade do BRT amarelo.   \n",
       "2                                                                                                                                                                                           ele chegou\\n\\no BRT amarelo chegou na zona oeste   \n",
       "3                                                                                                                                                                                              como é bonito o BRT amarelo parabéns a todos    \n",
       "4                                                                                                                                                                                EU VI UM BRT AMARELO NA ESTAÇAO DE OLARIA, EU NAO TO MALUCO   \n",
       "\n",
       "                                                                                                                                                                                                                                             content_en   \n",
       "0  People, MIRACLE!!!! A new yellow BRT with air conditioning is running, it even comes out with an automatic voice like the one on the subway \"closing door\". It seems that they added a new line (38) that goes only to Fundão too. FUCK, I'M SHOCKED  \\\n",
       "1                                                                                                                                                                                  A minute of silence to appreciate the superiority of the yellow BRT.   \n",
       "2                                                                                                                                                                                                    he arrived the yellow BRT arrived in the west zone   \n",
       "3                                                                                                                                                                                                how beautiful is the yellow BRT congratulations to all   \n",
       "4                                                                                                                                                                                            I SAW A YELLOW BRT AT THE STATION OF OLARIA, I'M NOT CRAZY   \n",
       "\n",
       "                                                                                                                                                                                                                                                                                                                           preds  \n",
       "0       [{'label': 'LABEL_0', 'score': 0.01208643987774849}, {'label': 'LABEL_1', 'score': 0.03583541512489319}, {'label': 'LABEL_2', 'score': 0.017782559618353844}, {'label': 'LABEL_3', 'score': 0.03202025219798088}, {'label': 'LABEL_4', 'score': 0.13683666288852692}, {'label': 'LABEL_5', 'score': 0.7654386758804321}]  \n",
       "1  [{'label': 'LABEL_0', 'score': 0.00570283317938447}, {'label': 'LABEL_1', 'score': 0.9415447115898132}, {'label': 'LABEL_2', 'score': 0.036612723022699356}, {'label': 'LABEL_3', 'score': 0.005257464945316315}, {'label': 'LABEL_4', 'score': 0.0030774453189224005}, {'label': 'LABEL_5', 'score': 0.0078048123978078365}]  \n",
       "2          [{'label': 'LABEL_0', 'score': 0.1383206993341446}, {'label': 'LABEL_1', 'score': 0.441482812166214}, {'label': 'LABEL_2', 'score': 0.02944326214492321}, {'label': 'LABEL_3', 'score': 0.19219377636909485}, {'label': 'LABEL_4', 'score': 0.16279572248458862}, {'label': 'LABEL_5', 'score': 0.03576365485787392}]  \n",
       "3     [{'label': 'LABEL_0', 'score': 0.006498504430055618}, {'label': 'LABEL_1', 'score': 0.8433584570884705}, {'label': 'LABEL_2', 'score': 0.12388654798269272}, {'label': 'LABEL_3', 'score': 0.006026086863130331}, {'label': 'LABEL_4', 'score': 0.004393021110445261}, {'label': 'LABEL_5', 'score': 0.01583748869597912}]  \n",
       "4     [{'label': 'LABEL_0', 'score': 0.024928903207182884}, {'label': 'LABEL_1', 'score': 0.028713634237647057}, {'label': 'LABEL_2', 'score': 0.008353550918400288}, {'label': 'LABEL_3', 'score': 0.20771729946136475}, {'label': 'LABEL_4', 'score': 0.6509366631507874}, {'label': 'LABEL_5', 'score': 0.07934996485710144}]  "
      ]
     },
     "execution_count": 199,
     "metadata": {},
     "output_type": "execute_result"
    }
   ],
   "source": [
    "tweets_df_en.head()"
   ]
  },
  {
   "cell_type": "code",
   "execution_count": null,
   "metadata": {},
   "outputs": [
    {
     "data": {
      "image/png": "[encoded data removed]",
      "text/plain": [
       "<Figure size 640x480 with 1 Axes>"
      ]
     },
     "metadata": {},
     "output_type": "display_data"
    },
    {
     "data": {
      "image/png": "[encoded data removed]",
      "text/plain": [
       "<Figure size 640x480 with 1 Axes>"
      ]
     },
     "metadata": {},
     "output_type": "display_data"
    },
    {
     "data": {
      "image/png": "[encoded data removed]",
      "text/plain": [
       "<Figure size 640x480 with 1 Axes>"
      ]
     },
     "metadata": {},
     "output_type": "display_data"
    },
    {
     "data": {
      "image/png": "[encoded data removed]",
      "text/plain": [
       "<Figure size 640x480 with 1 Axes>"
      ]
     },
     "metadata": {},
     "output_type": "display_data"
    },
    {
     "data": {
      "image/png": "[encoded data removed]",
      "text/plain": [
       "<Figure size 640x480 with 1 Axes>"
      ]
     },
     "metadata": {},
     "output_type": "display_data"
    }
   ],
   "source": [
    "preds = tweets_df_en[\"preds\"].head().values.tolist()\n",
    "content_en = tweets_df_en[\"content_en\"].head().values.tolist()\n",
    "\n",
    "for i, pred in enumerate(preds):\n",
    "  preds_df = pd.DataFrame(pred)\n",
    "  plt.bar(labels, 100 * preds_df[\"score\"], color='C0')\n",
    "  plt.title(f'\"{content_en[i]}\"')\n",
    "  plt.ylabel(\"Class probability (%)\")\n",
    "  plt.show()"
   ]
  },
  {
   "cell_type": "code",
   "execution_count": 206,
   "metadata": {},
   "outputs": [],
   "source": [
    "tweets_df_en[\"posted_time\"] = tweets_df[\"posted_time\"]"
   ]
  },
  {
   "cell_type": "code",
   "execution_count": 214,
   "metadata": {},
   "outputs": [
    {
     "data": {
      "text/html": [
       "<div>\n",
       "<style scoped>\n",
       "    .dataframe tbody tr th:only-of-type {\n",
       "        vertical-align: middle;\n",
       "    }\n",
       "\n",
       "    .dataframe tbody tr th {\n",
       "        vertical-align: top;\n",
       "    }\n",
       "\n",
       "    .dataframe thead th {\n",
       "        text-align: right;\n",
       "    }\n",
       "</style>\n",
       "<table border=\"1\" class=\"dataframe\">\n",
       "  <thead>\n",
       "    <tr style=\"text-align: right;\">\n",
       "      <th></th>\n",
       "      <th>username</th>\n",
       "      <th>content</th>\n",
       "      <th>content_en</th>\n",
       "      <th>preds</th>\n",
       "      <th>posted_time</th>\n",
       "    </tr>\n",
       "  </thead>\n",
       "  <tbody>\n",
       "    <tr>\n",
       "      <th>0</th>\n",
       "      <td>igordosus</td>\n",
       "      <td>Gente, MILAGRE!!!!\\n\\nTá rodando um BRT amarelo novo com ar condicionado, sai até voz automática igual aquela do metrô \"porta de fechando\". Parece q adicionaram uma nova linha (38) q vai só até o Fundão tbm.\\n\\nCARALHO, EU TO CHOCADO</td>\n",
       "      <td>People, MIRACLE!!!! A new yellow BRT with air conditioning is running, it even comes out with an automatic voice like the one on the subway \"closing door\". It seems that they added a new line (38) that goes only to Fundão too. FUCK, I'M SHOCKED</td>\n",
       "      <td>[{'label': 'LABEL_0', 'score': 0.01208643987774849}, {'label': 'LABEL_1', 'score': 0.03583541512489319}, {'label': 'LABEL_2', 'score': 0.017782559618353844}, {'label': 'LABEL_3', 'score': 0.03202025219798088}, {'label': 'LABEL_4', 'score': 0.13683666288852692}, {'label': 'LABEL_5', 'score': 0.7654386758804321}]</td>\n",
       "      <td>2023-03-01 13:09:04</td>\n",
       "    </tr>\n",
       "    <tr>\n",
       "      <th>1</th>\n",
       "      <td>diesonnenlicht</td>\n",
       "      <td>Um minuto de silêncio para apreciarmos a superioridade do BRT amarelo.</td>\n",
       "      <td>A minute of silence to appreciate the superiority of the yellow BRT.</td>\n",
       "      <td>[{'label': 'LABEL_0', 'score': 0.00570283317938447}, {'label': 'LABEL_1', 'score': 0.9415447115898132}, {'label': 'LABEL_2', 'score': 0.036612723022699356}, {'label': 'LABEL_3', 'score': 0.005257464945316315}, {'label': 'LABEL_4', 'score': 0.0030774453189224005}, {'label': 'LABEL_5', 'score': 0.0078048123978078365}]</td>\n",
       "      <td>2023-04-19 13:58:23</td>\n",
       "    </tr>\n",
       "    <tr>\n",
       "      <th>2</th>\n",
       "      <td>naoculpeopedro</td>\n",
       "      <td>ele chegou\\n\\no BRT amarelo chegou na zona oeste</td>\n",
       "      <td>he arrived the yellow BRT arrived in the west zone</td>\n",
       "      <td>[{'label': 'LABEL_0', 'score': 0.1383206993341446}, {'label': 'LABEL_1', 'score': 0.441482812166214}, {'label': 'LABEL_2', 'score': 0.02944326214492321}, {'label': 'LABEL_3', 'score': 0.19219377636909485}, {'label': 'LABEL_4', 'score': 0.16279572248458862}, {'label': 'LABEL_5', 'score': 0.03576365485787392}]</td>\n",
       "      <td>2023-05-02 09:14:31</td>\n",
       "    </tr>\n",
       "    <tr>\n",
       "      <th>3</th>\n",
       "      <td>naoculpeopedro</td>\n",
       "      <td>como é bonito o BRT amarelo parabéns a todos</td>\n",
       "      <td>how beautiful is the yellow BRT congratulations to all</td>\n",
       "      <td>[{'label': 'LABEL_0', 'score': 0.006498504430055618}, {'label': 'LABEL_1', 'score': 0.8433584570884705}, {'label': 'LABEL_2', 'score': 0.12388654798269272}, {'label': 'LABEL_3', 'score': 0.006026086863130331}, {'label': 'LABEL_4', 'score': 0.004393021110445261}, {'label': 'LABEL_5', 'score': 0.01583748869597912}]</td>\n",
       "      <td>2023-03-31 20:50:18</td>\n",
       "    </tr>\n",
       "    <tr>\n",
       "      <th>4</th>\n",
       "      <td>zwnetti</td>\n",
       "      <td>EU VI UM BRT AMARELO NA ESTAÇAO DE OLARIA, EU NAO TO MALUCO</td>\n",
       "      <td>I SAW A YELLOW BRT AT THE STATION OF OLARIA, I'M NOT CRAZY</td>\n",
       "      <td>[{'label': 'LABEL_0', 'score': 0.024928903207182884}, {'label': 'LABEL_1', 'score': 0.028713634237647057}, {'label': 'LABEL_2', 'score': 0.008353550918400288}, {'label': 'LABEL_3', 'score': 0.20771729946136475}, {'label': 'LABEL_4', 'score': 0.6509366631507874}, {'label': 'LABEL_5', 'score': 0.07934996485710144}]</td>\n",
       "      <td>2023-03-01 12:39:00</td>\n",
       "    </tr>\n",
       "    <tr>\n",
       "      <th>...</th>\n",
       "      <td>...</td>\n",
       "      <td>...</td>\n",
       "      <td>...</td>\n",
       "      <td>...</td>\n",
       "      <td>...</td>\n",
       "    </tr>\n",
       "    <tr>\n",
       "      <th>231</th>\n",
       "      <td>pclages</td>\n",
       "      <td>BRT amarelo é vida, isso não vai durar, infelizmente tenho certeza.</td>\n",
       "      <td>Yellow BRT is life, it won't last, unfortunately I'm sure.</td>\n",
       "      <td>[{'label': 'LABEL_0', 'score': 0.03049211949110031}, {'label': 'LABEL_1', 'score': 0.9182701110839844}, {'label': 'LABEL_2', 'score': 0.01373248640447855}, {'label': 'LABEL_3', 'score': 0.016767382621765137}, {'label': 'LABEL_4', 'score': 0.013403982855379581}, {'label': 'LABEL_5', 'score': 0.007334050256758928}]</td>\n",
       "      <td>2022-09-29 17:49:15</td>\n",
       "    </tr>\n",
       "    <tr>\n",
       "      <th>232</th>\n",
       "      <td>AugustoLeticya</td>\n",
       "      <td>e o BRT amarelo já está um inferno de lotado, filhas da puta</td>\n",
       "      <td>and the yellow BRT is already a hell of a lot, motherfuckers</td>\n",
       "      <td>[{'label': 'LABEL_0', 'score': 0.03415491804480553}, {'label': 'LABEL_1', 'score': 0.024094413965940475}, {'label': 'LABEL_2', 'score': 0.010394718497991562}, {'label': 'LABEL_3', 'score': 0.9052895903587341}, {'label': 'LABEL_4', 'score': 0.019685572013258934}, {'label': 'LABEL_5', 'score': 0.006380852311849594}]</td>\n",
       "      <td>2022-09-27 07:21:32</td>\n",
       "    </tr>\n",
       "    <tr>\n",
       "      <th>234</th>\n",
       "      <td>mateusfp98</td>\n",
       "      <td>O BRT amarelo é assustadoramente feio</td>\n",
       "      <td>The yellow BRT is frighteningly ugly</td>\n",
       "      <td>[{'label': 'LABEL_0', 'score': 0.6694991588592529}, {'label': 'LABEL_1', 'score': 0.020426565781235695}, {'label': 'LABEL_2', 'score': 0.009551558643579483}, {'label': 'LABEL_3', 'score': 0.16797491908073425}, {'label': 'LABEL_4', 'score': 0.12273245304822922}, {'label': 'LABEL_5', 'score': 0.00981533620506525}]</td>\n",
       "      <td>2022-09-20 19:39:58</td>\n",
       "    </tr>\n",
       "    <tr>\n",
       "      <th>235</th>\n",
       "      <td>deyoldra</td>\n",
       "      <td>Amg tu vai pra lá por qual região? Pq o BRT amarelo vai ser só parque olímpico e alvorada, 22 conto, tô pensando em ir de carro e deixar no metropolitano e ir andando msm, pq se o estacionamento pernoite for 45 conto, já vale a pena pq já dá a passagem de duas pessoas</td>\n",
       "      <td>Amg you go there for which region? because the yellow BRT will only be the olympic park and dawn, 22 contos, I'm thinking of going by car and leaving it on the subway and walking anyway, because if the overnight parking is 45 contos, it's already worth it because it already gives the passage of two people</td>\n",
       "      <td>[{'label': 'LABEL_0', 'score': 0.02690015733242035}, {'label': 'LABEL_1', 'score': 0.9219916462898254}, {'label': 'LABEL_2', 'score': 0.020058341324329376}, {'label': 'LABEL_3', 'score': 0.01787886582314968}, {'label': 'LABEL_4', 'score': 0.0073561640456318855}, {'label': 'LABEL_5', 'score': 0.005814944393932819}]</td>\n",
       "      <td>2022-09-02 11:25:54</td>\n",
       "    </tr>\n",
       "    <tr>\n",
       "      <th>236</th>\n",
       "      <td>deyoldra</td>\n",
       "      <td>Alguém que vá no Rock in Rio sabe dizer se tem mesmo que comprar essa passagem cara pra caralho do BRT amarelo pra poder chegar mais lá perto???</td>\n",
       "      <td>Does anyone who goes to Rock in Rio know if you really have to buy that expensive yellow BRT ticket to get closer???</td>\n",
       "      <td>[{'label': 'LABEL_0', 'score': 0.05471770465373993}, {'label': 'LABEL_1', 'score': 0.7691025733947754}, {'label': 'LABEL_2', 'score': 0.023014366626739502}, {'label': 'LABEL_3', 'score': 0.07861404865980148}, {'label': 'LABEL_4', 'score': 0.04916197061538696}, {'label': 'LABEL_5', 'score': 0.025389384478330612}]</td>\n",
       "      <td>2022-09-02 10:56:51</td>\n",
       "    </tr>\n",
       "  </tbody>\n",
       "</table>\n",
       "<p>149 rows × 5 columns</p>\n",
       "</div>"
      ],
      "text/plain": [
       "           username   \n",
       "0         igordosus  \\\n",
       "1    diesonnenlicht   \n",
       "2    naoculpeopedro   \n",
       "3    naoculpeopedro   \n",
       "4           zwnetti   \n",
       "..              ...   \n",
       "231         pclages   \n",
       "232  AugustoLeticya   \n",
       "234      mateusfp98   \n",
       "235        deyoldra   \n",
       "236        deyoldra   \n",
       "\n",
       "                                                                                                                                                                                                                                                                          content   \n",
       "0                                       Gente, MILAGRE!!!!\\n\\nTá rodando um BRT amarelo novo com ar condicionado, sai até voz automática igual aquela do metrô \"porta de fechando\". Parece q adicionaram uma nova linha (38) q vai só até o Fundão tbm.\\n\\nCARALHO, EU TO CHOCADO  \\\n",
       "1                                                                                                                                                                                                          Um minuto de silêncio para apreciarmos a superioridade do BRT amarelo.   \n",
       "2                                                                                                                                                                                                                                ele chegou\\n\\no BRT amarelo chegou na zona oeste   \n",
       "3                                                                                                                                                                                                                                   como é bonito o BRT amarelo parabéns a todos    \n",
       "4                                                                                                                                                                                                                     EU VI UM BRT AMARELO NA ESTAÇAO DE OLARIA, EU NAO TO MALUCO   \n",
       "..                                                                                                                                                                                                                                                                            ...   \n",
       "231                                                                                                                                                                                                           BRT amarelo é vida, isso não vai durar, infelizmente tenho certeza.   \n",
       "232                                                                                                                                                                                                                 e o BRT amarelo já está um inferno de lotado, filhas da puta    \n",
       "234                                                                                                                                                                                                                                         O BRT amarelo é assustadoramente feio   \n",
       "235  Amg tu vai pra lá por qual região? Pq o BRT amarelo vai ser só parque olímpico e alvorada, 22 conto, tô pensando em ir de carro e deixar no metropolitano e ir andando msm, pq se o estacionamento pernoite for 45 conto, já vale a pena pq já dá a passagem de duas pessoas   \n",
       "236                                                                                                                              Alguém que vá no Rock in Rio sabe dizer se tem mesmo que comprar essa passagem cara pra caralho do BRT amarelo pra poder chegar mais lá perto???   \n",
       "\n",
       "                                                                                                                                                                                                                                                                                                             content_en   \n",
       "0                                                                  People, MIRACLE!!!! A new yellow BRT with air conditioning is running, it even comes out with an automatic voice like the one on the subway \"closing door\". It seems that they added a new line (38) that goes only to Fundão too. FUCK, I'M SHOCKED  \\\n",
       "1                                                                                                                                                                                                                                                  A minute of silence to appreciate the superiority of the yellow BRT.   \n",
       "2                                                                                                                                                                                                                                                                    he arrived the yellow BRT arrived in the west zone   \n",
       "3                                                                                                                                                                                                                                                                how beautiful is the yellow BRT congratulations to all   \n",
       "4                                                                                                                                                                                                                                                            I SAW A YELLOW BRT AT THE STATION OF OLARIA, I'M NOT CRAZY   \n",
       "..                                                                                                                                                                                                                                                                                                                  ...   \n",
       "231                                                                                                                                                                                                                                                          Yellow BRT is life, it won't last, unfortunately I'm sure.   \n",
       "232                                                                                                                                                                                                                                                        and the yellow BRT is already a hell of a lot, motherfuckers   \n",
       "234                                                                                                                                                                                                                                                                                The yellow BRT is frighteningly ugly   \n",
       "235  Amg you go there for which region? because the yellow BRT will only be the olympic park and dawn, 22 contos, I'm thinking of going by car and leaving it on the subway and walking anyway, because if the overnight parking is 45 contos, it's already worth it because it already gives the passage of two people   \n",
       "236                                                                                                                                                                                                Does anyone who goes to Rock in Rio know if you really have to buy that expensive yellow BRT ticket to get closer???   \n",
       "\n",
       "                                                                                                                                                                                                                                                                                                                             preds   \n",
       "0         [{'label': 'LABEL_0', 'score': 0.01208643987774849}, {'label': 'LABEL_1', 'score': 0.03583541512489319}, {'label': 'LABEL_2', 'score': 0.017782559618353844}, {'label': 'LABEL_3', 'score': 0.03202025219798088}, {'label': 'LABEL_4', 'score': 0.13683666288852692}, {'label': 'LABEL_5', 'score': 0.7654386758804321}]  \\\n",
       "1    [{'label': 'LABEL_0', 'score': 0.00570283317938447}, {'label': 'LABEL_1', 'score': 0.9415447115898132}, {'label': 'LABEL_2', 'score': 0.036612723022699356}, {'label': 'LABEL_3', 'score': 0.005257464945316315}, {'label': 'LABEL_4', 'score': 0.0030774453189224005}, {'label': 'LABEL_5', 'score': 0.0078048123978078365}]   \n",
       "2            [{'label': 'LABEL_0', 'score': 0.1383206993341446}, {'label': 'LABEL_1', 'score': 0.441482812166214}, {'label': 'LABEL_2', 'score': 0.02944326214492321}, {'label': 'LABEL_3', 'score': 0.19219377636909485}, {'label': 'LABEL_4', 'score': 0.16279572248458862}, {'label': 'LABEL_5', 'score': 0.03576365485787392}]   \n",
       "3       [{'label': 'LABEL_0', 'score': 0.006498504430055618}, {'label': 'LABEL_1', 'score': 0.8433584570884705}, {'label': 'LABEL_2', 'score': 0.12388654798269272}, {'label': 'LABEL_3', 'score': 0.006026086863130331}, {'label': 'LABEL_4', 'score': 0.004393021110445261}, {'label': 'LABEL_5', 'score': 0.01583748869597912}]   \n",
       "4       [{'label': 'LABEL_0', 'score': 0.024928903207182884}, {'label': 'LABEL_1', 'score': 0.028713634237647057}, {'label': 'LABEL_2', 'score': 0.008353550918400288}, {'label': 'LABEL_3', 'score': 0.20771729946136475}, {'label': 'LABEL_4', 'score': 0.6509366631507874}, {'label': 'LABEL_5', 'score': 0.07934996485710144}]   \n",
       "..                                                                                                                                                                                                                                                                                                                             ...   \n",
       "231     [{'label': 'LABEL_0', 'score': 0.03049211949110031}, {'label': 'LABEL_1', 'score': 0.9182701110839844}, {'label': 'LABEL_2', 'score': 0.01373248640447855}, {'label': 'LABEL_3', 'score': 0.016767382621765137}, {'label': 'LABEL_4', 'score': 0.013403982855379581}, {'label': 'LABEL_5', 'score': 0.007334050256758928}]   \n",
       "232    [{'label': 'LABEL_0', 'score': 0.03415491804480553}, {'label': 'LABEL_1', 'score': 0.024094413965940475}, {'label': 'LABEL_2', 'score': 0.010394718497991562}, {'label': 'LABEL_3', 'score': 0.9052895903587341}, {'label': 'LABEL_4', 'score': 0.019685572013258934}, {'label': 'LABEL_5', 'score': 0.006380852311849594}]   \n",
       "234      [{'label': 'LABEL_0', 'score': 0.6694991588592529}, {'label': 'LABEL_1', 'score': 0.020426565781235695}, {'label': 'LABEL_2', 'score': 0.009551558643579483}, {'label': 'LABEL_3', 'score': 0.16797491908073425}, {'label': 'LABEL_4', 'score': 0.12273245304822922}, {'label': 'LABEL_5', 'score': 0.00981533620506525}]   \n",
       "235    [{'label': 'LABEL_0', 'score': 0.02690015733242035}, {'label': 'LABEL_1', 'score': 0.9219916462898254}, {'label': 'LABEL_2', 'score': 0.020058341324329376}, {'label': 'LABEL_3', 'score': 0.01787886582314968}, {'label': 'LABEL_4', 'score': 0.0073561640456318855}, {'label': 'LABEL_5', 'score': 0.005814944393932819}]   \n",
       "236      [{'label': 'LABEL_0', 'score': 0.05471770465373993}, {'label': 'LABEL_1', 'score': 0.7691025733947754}, {'label': 'LABEL_2', 'score': 0.023014366626739502}, {'label': 'LABEL_3', 'score': 0.07861404865980148}, {'label': 'LABEL_4', 'score': 0.04916197061538696}, {'label': 'LABEL_5', 'score': 0.025389384478330612}]   \n",
       "\n",
       "            posted_time  \n",
       "0   2023-03-01 13:09:04  \n",
       "1   2023-04-19 13:58:23  \n",
       "2   2023-05-02 09:14:31  \n",
       "3   2023-03-31 20:50:18  \n",
       "4   2023-03-01 12:39:00  \n",
       "..                  ...  \n",
       "231 2022-09-29 17:49:15  \n",
       "232 2022-09-27 07:21:32  \n",
       "234 2022-09-20 19:39:58  \n",
       "235 2022-09-02 11:25:54  \n",
       "236 2022-09-02 10:56:51  \n",
       "\n",
       "[149 rows x 5 columns]"
      ]
     },
     "execution_count": 214,
     "metadata": {},
     "output_type": "execute_result"
    }
   ],
   "source": [
    "tweets_df_en"
   ]
  },
  {
   "cell_type": "code",
   "execution_count": 226,
   "metadata": {},
   "outputs": [],
   "source": [
    "def get_pred_label(preds):\n",
    "  arr = preds\n",
    "  label_value = max(arr, key=lambda x: x['score'])['label']\n",
    "  label_index = [i for i, d in enumerate(arr) if d['label'] == label_value][0]\n",
    "  return labels[label_index]\n",
    "\n",
    "tweets_df_en[\"pred_label\"] = tweets_df_en[\"preds\"].apply(get_pred_label)\n"
   ]
  },
  {
   "cell_type": "code",
   "execution_count": 229,
   "metadata": {},
   "outputs": [
    {
     "data": {
      "text/html": [
       "<div>\n",
       "<style scoped>\n",
       "    .dataframe tbody tr th:only-of-type {\n",
       "        vertical-align: middle;\n",
       "    }\n",
       "\n",
       "    .dataframe tbody tr th {\n",
       "        vertical-align: top;\n",
       "    }\n",
       "\n",
       "    .dataframe thead th {\n",
       "        text-align: right;\n",
       "    }\n",
       "</style>\n",
       "<table border=\"1\" class=\"dataframe\">\n",
       "  <thead>\n",
       "    <tr style=\"text-align: right;\">\n",
       "      <th></th>\n",
       "      <th>username</th>\n",
       "      <th>content</th>\n",
       "      <th>content_en</th>\n",
       "      <th>posted_time</th>\n",
       "      <th>pred_label</th>\n",
       "    </tr>\n",
       "  </thead>\n",
       "  <tbody>\n",
       "    <tr>\n",
       "      <th>0</th>\n",
       "      <td>igordosus</td>\n",
       "      <td>Gente, MILAGRE!!!!\\n\\nTá rodando um BRT amarelo novo com ar condicionado, sai até voz automática igual aquela do metrô \"porta de fechando\". Parece q adicionaram uma nova linha (38) q vai só até o Fundão tbm.\\n\\nCARALHO, EU TO CHOCADO</td>\n",
       "      <td>People, MIRACLE!!!! A new yellow BRT with air conditioning is running, it even comes out with an automatic voice like the one on the subway \"closing door\". It seems that they added a new line (38) that goes only to Fundão too. FUCK, I'M SHOCKED</td>\n",
       "      <td>2023-03-01 13:09:04</td>\n",
       "      <td>surprise</td>\n",
       "    </tr>\n",
       "    <tr>\n",
       "      <th>1</th>\n",
       "      <td>diesonnenlicht</td>\n",
       "      <td>Um minuto de silêncio para apreciarmos a superioridade do BRT amarelo.</td>\n",
       "      <td>A minute of silence to appreciate the superiority of the yellow BRT.</td>\n",
       "      <td>2023-04-19 13:58:23</td>\n",
       "      <td>joy</td>\n",
       "    </tr>\n",
       "    <tr>\n",
       "      <th>2</th>\n",
       "      <td>naoculpeopedro</td>\n",
       "      <td>ele chegou\\n\\no BRT amarelo chegou na zona oeste</td>\n",
       "      <td>he arrived the yellow BRT arrived in the west zone</td>\n",
       "      <td>2023-05-02 09:14:31</td>\n",
       "      <td>joy</td>\n",
       "    </tr>\n",
       "    <tr>\n",
       "      <th>3</th>\n",
       "      <td>naoculpeopedro</td>\n",
       "      <td>como é bonito o BRT amarelo parabéns a todos</td>\n",
       "      <td>how beautiful is the yellow BRT congratulations to all</td>\n",
       "      <td>2023-03-31 20:50:18</td>\n",
       "      <td>joy</td>\n",
       "    </tr>\n",
       "    <tr>\n",
       "      <th>4</th>\n",
       "      <td>zwnetti</td>\n",
       "      <td>EU VI UM BRT AMARELO NA ESTAÇAO DE OLARIA, EU NAO TO MALUCO</td>\n",
       "      <td>I SAW A YELLOW BRT AT THE STATION OF OLARIA, I'M NOT CRAZY</td>\n",
       "      <td>2023-03-01 12:39:00</td>\n",
       "      <td>fear</td>\n",
       "    </tr>\n",
       "  </tbody>\n",
       "</table>\n",
       "</div>"
      ],
      "text/plain": [
       "         username   \n",
       "0       igordosus  \\\n",
       "1  diesonnenlicht   \n",
       "2  naoculpeopedro   \n",
       "3  naoculpeopedro   \n",
       "4         zwnetti   \n",
       "\n",
       "                                                                                                                                                                                                                                     content   \n",
       "0  Gente, MILAGRE!!!!\\n\\nTá rodando um BRT amarelo novo com ar condicionado, sai até voz automática igual aquela do metrô \"porta de fechando\". Parece q adicionaram uma nova linha (38) q vai só até o Fundão tbm.\\n\\nCARALHO, EU TO CHOCADO  \\\n",
       "1                                                                                                                                                                     Um minuto de silêncio para apreciarmos a superioridade do BRT amarelo.   \n",
       "2                                                                                                                                                                                           ele chegou\\n\\no BRT amarelo chegou na zona oeste   \n",
       "3                                                                                                                                                                                              como é bonito o BRT amarelo parabéns a todos    \n",
       "4                                                                                                                                                                                EU VI UM BRT AMARELO NA ESTAÇAO DE OLARIA, EU NAO TO MALUCO   \n",
       "\n",
       "                                                                                                                                                                                                                                             content_en   \n",
       "0  People, MIRACLE!!!! A new yellow BRT with air conditioning is running, it even comes out with an automatic voice like the one on the subway \"closing door\". It seems that they added a new line (38) that goes only to Fundão too. FUCK, I'M SHOCKED  \\\n",
       "1                                                                                                                                                                                  A minute of silence to appreciate the superiority of the yellow BRT.   \n",
       "2                                                                                                                                                                                                    he arrived the yellow BRT arrived in the west zone   \n",
       "3                                                                                                                                                                                                how beautiful is the yellow BRT congratulations to all   \n",
       "4                                                                                                                                                                                            I SAW A YELLOW BRT AT THE STATION OF OLARIA, I'M NOT CRAZY   \n",
       "\n",
       "          posted_time pred_label  \n",
       "0 2023-03-01 13:09:04   surprise  \n",
       "1 2023-04-19 13:58:23        joy  \n",
       "2 2023-05-02 09:14:31        joy  \n",
       "3 2023-03-31 20:50:18        joy  \n",
       "4 2023-03-01 12:39:00       fear  "
      ]
     },
     "execution_count": 229,
     "metadata": {},
     "output_type": "execute_result"
    }
   ],
   "source": [
    "tweets_df_en.head()"
   ]
  },
  {
   "cell_type": "code",
   "execution_count": 230,
   "metadata": {},
   "outputs": [
    {
     "data": {
      "text/plain": [
       "<Axes: ylabel='count'>"
      ]
     },
     "execution_count": 230,
     "metadata": {},
     "output_type": "execute_result"
    },
    {
     "data": {
      "image/png": "[encoded data removed]",
      "text/plain": [
       "<Figure size 1000x1000 with 1 Axes>"
      ]
     },
     "metadata": {},
     "output_type": "display_data"
    }
   ],
   "source": [
    "tweets_df_en[\"pred_label\"].value_counts().plot(kind=\"pie\", autopct='%1.1f%%', figsize=(10,10))"
   ]
  },
  {
   "cell_type": "code",
   "execution_count": 266,
   "metadata": {},
   "outputs": [
    {
     "data": {
      "text/html": [
       "<div>\n",
       "<style scoped>\n",
       "    .dataframe tbody tr th:only-of-type {\n",
       "        vertical-align: middle;\n",
       "    }\n",
       "\n",
       "    .dataframe tbody tr th {\n",
       "        vertical-align: top;\n",
       "    }\n",
       "\n",
       "    .dataframe thead th {\n",
       "        text-align: right;\n",
       "    }\n",
       "</style>\n",
       "<table border=\"1\" class=\"dataframe\">\n",
       "  <thead>\n",
       "    <tr style=\"text-align: right;\">\n",
       "      <th></th>\n",
       "      <th>username</th>\n",
       "      <th>content</th>\n",
       "      <th>content_en</th>\n",
       "      <th>posted_time</th>\n",
       "      <th>pred_label</th>\n",
       "    </tr>\n",
       "  </thead>\n",
       "  <tbody>\n",
       "    <tr>\n",
       "      <th>0</th>\n",
       "      <td>igordosus</td>\n",
       "      <td>Gente, MILAGRE!!!!\\n\\nTá rodando um BRT amarelo novo com ar condicionado, sai até voz automática igual aquela do metrô \"porta de fechando\". Parece q adicionaram uma nova linha (38) q vai só até o Fundão tbm.\\n\\nCARALHO, EU TO CHOCADO</td>\n",
       "      <td>People, MIRACLE!!!! A new yellow BRT with air conditioning is running, it even comes out with an automatic voice like the one on the subway \"closing door\". It seems that they added a new line (38) that goes only to Fundão too. FUCK, I'M SHOCKED</td>\n",
       "      <td>2023-03-01 13:09:04</td>\n",
       "      <td>surprise</td>\n",
       "    </tr>\n",
       "    <tr>\n",
       "      <th>1</th>\n",
       "      <td>diesonnenlicht</td>\n",
       "      <td>Um minuto de silêncio para apreciarmos a superioridade do BRT amarelo.</td>\n",
       "      <td>A minute of silence to appreciate the superiority of the yellow BRT.</td>\n",
       "      <td>2023-04-19 13:58:23</td>\n",
       "      <td>joy</td>\n",
       "    </tr>\n",
       "    <tr>\n",
       "      <th>2</th>\n",
       "      <td>naoculpeopedro</td>\n",
       "      <td>ele chegou\\n\\no BRT amarelo chegou na zona oeste</td>\n",
       "      <td>he arrived the yellow BRT arrived in the west zone</td>\n",
       "      <td>2023-05-02 09:14:31</td>\n",
       "      <td>joy</td>\n",
       "    </tr>\n",
       "    <tr>\n",
       "      <th>3</th>\n",
       "      <td>naoculpeopedro</td>\n",
       "      <td>como é bonito o BRT amarelo parabéns a todos</td>\n",
       "      <td>how beautiful is the yellow BRT congratulations to all</td>\n",
       "      <td>2023-03-31 20:50:18</td>\n",
       "      <td>joy</td>\n",
       "    </tr>\n",
       "    <tr>\n",
       "      <th>4</th>\n",
       "      <td>zwnetti</td>\n",
       "      <td>EU VI UM BRT AMARELO NA ESTAÇAO DE OLARIA, EU NAO TO MALUCO</td>\n",
       "      <td>I SAW A YELLOW BRT AT THE STATION OF OLARIA, I'M NOT CRAZY</td>\n",
       "      <td>2023-03-01 12:39:00</td>\n",
       "      <td>fear</td>\n",
       "    </tr>\n",
       "    <tr>\n",
       "      <th>...</th>\n",
       "      <td>...</td>\n",
       "      <td>...</td>\n",
       "      <td>...</td>\n",
       "      <td>...</td>\n",
       "      <td>...</td>\n",
       "    </tr>\n",
       "    <tr>\n",
       "      <th>231</th>\n",
       "      <td>pclages</td>\n",
       "      <td>BRT amarelo é vida, isso não vai durar, infelizmente tenho certeza.</td>\n",
       "      <td>Yellow BRT is life, it won't last, unfortunately I'm sure.</td>\n",
       "      <td>2022-09-29 17:49:15</td>\n",
       "      <td>joy</td>\n",
       "    </tr>\n",
       "    <tr>\n",
       "      <th>232</th>\n",
       "      <td>AugustoLeticya</td>\n",
       "      <td>e o BRT amarelo já está um inferno de lotado, filhas da puta</td>\n",
       "      <td>and the yellow BRT is already a hell of a lot, motherfuckers</td>\n",
       "      <td>2022-09-27 07:21:32</td>\n",
       "      <td>anger</td>\n",
       "    </tr>\n",
       "    <tr>\n",
       "      <th>234</th>\n",
       "      <td>mateusfp98</td>\n",
       "      <td>O BRT amarelo é assustadoramente feio</td>\n",
       "      <td>The yellow BRT is frighteningly ugly</td>\n",
       "      <td>2022-09-20 19:39:58</td>\n",
       "      <td>sadness</td>\n",
       "    </tr>\n",
       "    <tr>\n",
       "      <th>235</th>\n",
       "      <td>deyoldra</td>\n",
       "      <td>Amg tu vai pra lá por qual região? Pq o BRT amarelo vai ser só parque olímpico e alvorada, 22 conto, tô pensando em ir de carro e deixar no metropolitano e ir andando msm, pq se o estacionamento pernoite for 45 conto, já vale a pena pq já dá a passagem de duas pessoas</td>\n",
       "      <td>Amg you go there for which region? because the yellow BRT will only be the olympic park and dawn, 22 contos, I'm thinking of going by car and leaving it on the subway and walking anyway, because if the overnight parking is 45 contos, it's already worth it because it already gives the passage of two people</td>\n",
       "      <td>2022-09-02 11:25:54</td>\n",
       "      <td>joy</td>\n",
       "    </tr>\n",
       "    <tr>\n",
       "      <th>236</th>\n",
       "      <td>deyoldra</td>\n",
       "      <td>Alguém que vá no Rock in Rio sabe dizer se tem mesmo que comprar essa passagem cara pra caralho do BRT amarelo pra poder chegar mais lá perto???</td>\n",
       "      <td>Does anyone who goes to Rock in Rio know if you really have to buy that expensive yellow BRT ticket to get closer???</td>\n",
       "      <td>2022-09-02 10:56:51</td>\n",
       "      <td>joy</td>\n",
       "    </tr>\n",
       "  </tbody>\n",
       "</table>\n",
       "<p>149 rows × 5 columns</p>\n",
       "</div>"
      ],
      "text/plain": [
       "           username   \n",
       "0         igordosus  \\\n",
       "1    diesonnenlicht   \n",
       "2    naoculpeopedro   \n",
       "3    naoculpeopedro   \n",
       "4           zwnetti   \n",
       "..              ...   \n",
       "231         pclages   \n",
       "232  AugustoLeticya   \n",
       "234      mateusfp98   \n",
       "235        deyoldra   \n",
       "236        deyoldra   \n",
       "\n",
       "                                                                                                                                                                                                                                                                          content   \n",
       "0                                       Gente, MILAGRE!!!!\\n\\nTá rodando um BRT amarelo novo com ar condicionado, sai até voz automática igual aquela do metrô \"porta de fechando\". Parece q adicionaram uma nova linha (38) q vai só até o Fundão tbm.\\n\\nCARALHO, EU TO CHOCADO  \\\n",
       "1                                                                                                                                                                                                          Um minuto de silêncio para apreciarmos a superioridade do BRT amarelo.   \n",
       "2                                                                                                                                                                                                                                ele chegou\\n\\no BRT amarelo chegou na zona oeste   \n",
       "3                                                                                                                                                                                                                                   como é bonito o BRT amarelo parabéns a todos    \n",
       "4                                                                                                                                                                                                                     EU VI UM BRT AMARELO NA ESTAÇAO DE OLARIA, EU NAO TO MALUCO   \n",
       "..                                                                                                                                                                                                                                                                            ...   \n",
       "231                                                                                                                                                                                                           BRT amarelo é vida, isso não vai durar, infelizmente tenho certeza.   \n",
       "232                                                                                                                                                                                                                 e o BRT amarelo já está um inferno de lotado, filhas da puta    \n",
       "234                                                                                                                                                                                                                                         O BRT amarelo é assustadoramente feio   \n",
       "235  Amg tu vai pra lá por qual região? Pq o BRT amarelo vai ser só parque olímpico e alvorada, 22 conto, tô pensando em ir de carro e deixar no metropolitano e ir andando msm, pq se o estacionamento pernoite for 45 conto, já vale a pena pq já dá a passagem de duas pessoas   \n",
       "236                                                                                                                              Alguém que vá no Rock in Rio sabe dizer se tem mesmo que comprar essa passagem cara pra caralho do BRT amarelo pra poder chegar mais lá perto???   \n",
       "\n",
       "                                                                                                                                                                                                                                                                                                             content_en   \n",
       "0                                                                  People, MIRACLE!!!! A new yellow BRT with air conditioning is running, it even comes out with an automatic voice like the one on the subway \"closing door\". It seems that they added a new line (38) that goes only to Fundão too. FUCK, I'M SHOCKED  \\\n",
       "1                                                                                                                                                                                                                                                  A minute of silence to appreciate the superiority of the yellow BRT.   \n",
       "2                                                                                                                                                                                                                                                                    he arrived the yellow BRT arrived in the west zone   \n",
       "3                                                                                                                                                                                                                                                                how beautiful is the yellow BRT congratulations to all   \n",
       "4                                                                                                                                                                                                                                                            I SAW A YELLOW BRT AT THE STATION OF OLARIA, I'M NOT CRAZY   \n",
       "..                                                                                                                                                                                                                                                                                                                  ...   \n",
       "231                                                                                                                                                                                                                                                          Yellow BRT is life, it won't last, unfortunately I'm sure.   \n",
       "232                                                                                                                                                                                                                                                        and the yellow BRT is already a hell of a lot, motherfuckers   \n",
       "234                                                                                                                                                                                                                                                                                The yellow BRT is frighteningly ugly   \n",
       "235  Amg you go there for which region? because the yellow BRT will only be the olympic park and dawn, 22 contos, I'm thinking of going by car and leaving it on the subway and walking anyway, because if the overnight parking is 45 contos, it's already worth it because it already gives the passage of two people   \n",
       "236                                                                                                                                                                                                Does anyone who goes to Rock in Rio know if you really have to buy that expensive yellow BRT ticket to get closer???   \n",
       "\n",
       "            posted_time pred_label  \n",
       "0   2023-03-01 13:09:04   surprise  \n",
       "1   2023-04-19 13:58:23        joy  \n",
       "2   2023-05-02 09:14:31        joy  \n",
       "3   2023-03-31 20:50:18        joy  \n",
       "4   2023-03-01 12:39:00       fear  \n",
       "..                  ...        ...  \n",
       "231 2022-09-29 17:49:15        joy  \n",
       "232 2022-09-27 07:21:32      anger  \n",
       "234 2022-09-20 19:39:58    sadness  \n",
       "235 2022-09-02 11:25:54        joy  \n",
       "236 2022-09-02 10:56:51        joy  \n",
       "\n",
       "[149 rows x 5 columns]"
      ]
     },
     "execution_count": 266,
     "metadata": {},
     "output_type": "execute_result"
    }
   ],
   "source": [
    "tweets_df_en"
   ]
  },
  {
   "cell_type": "code",
   "execution_count": 268,
   "metadata": {},
   "outputs": [],
   "source": [
    "tweets_df_from_human = pd.read_csv(\"tweets_df_from_human.csv\")"
   ]
  },
  {
   "cell_type": "code",
   "execution_count": 275,
   "metadata": {},
   "outputs": [
    {
     "data": {
      "text/plain": [
       "['sadness', 'joy', 'love', 'anger', 'fear', 'surprise']"
      ]
     },
     "execution_count": 275,
     "metadata": {},
     "output_type": "execute_result"
    }
   ],
   "source": [
    "labels"
   ]
  },
  {
   "cell_type": "code",
   "execution_count": 276,
   "metadata": {},
   "outputs": [
    {
     "data": {
      "image/png": "[encoded data removed]",
      "text/plain": [
       "<Figure size 600x600 with 1 Axes>"
      ]
     },
     "metadata": {},
     "output_type": "display_data"
    }
   ],
   "source": [
    "# get all \"true_label\" from dataset\n",
    "true_labels = tweets_df_from_human[\"true_label\"].values.tolist()\n",
    "pred_labels = tweets_df_from_human[\"pred_label\"].values.tolist()\n",
    "\n",
    "plot_confusion_matrix(pred_labels, true_labels, labels)"
   ]
  },
  {
   "cell_type": "code",
   "execution_count": 278,
   "metadata": {},
   "outputs": [
    {
     "name": "stderr",
     "output_type": "stream",
     "text": [
      "/Users/petropolis/Library/Python/3.9/lib/python/site-packages/transformers/pipelines/text_classification.py:89: UserWarning: `return_all_scores` is now deprecated, use `top_k=1` if you want similar functionnality\n",
      "  warnings.warn(\n"
     ]
    }
   ],
   "source": [
    "tweets_df_from_human[\"pred_scores\"] = tweets_df_from_human[\"content_en\"].apply(classify_text)"
   ]
  },
  {
   "cell_type": "code",
   "execution_count": 295,
   "metadata": {},
   "outputs": [],
   "source": [
    "def get_pred_label(preds):\n",
    "  arr = preds\n",
    "  pred_value = max(arr, key=lambda x: x['score'])\n",
    "  label_value = pred_value['label']\n",
    "  label_index = [i for i, d in enumerate(arr) if d['label'] == label_value][0]\n",
    "  if(pred_value[\"score\"]>0.85):\n",
    "    return labels[label_index]\n",
    "  else:\n",
    "    return \"None\"\n",
    "\n",
    "tweets_df_from_human[\"label_plus_85\"] = tweets_df_from_human[\"pred_scores\"].apply(get_pred_label)\n"
   ]
  },
  {
   "cell_type": "code",
   "execution_count": 297,
   "metadata": {},
   "outputs": [],
   "source": [
    "tweets_df_from_human = tweets_df_from_human[tweets_df_from_human[\"label_plus_85\"] != \"None\"]"
   ]
  },
  {
   "cell_type": "code",
   "execution_count": 310,
   "metadata": {},
   "outputs": [],
   "source": [
    "true_labels = tweets_df_from_human[\"true_label\"].values.tolist()\n",
    "pred_labels = tweets_df_from_human[\"pred_label\"].values.tolist()"
   ]
  },
  {
   "cell_type": "code",
   "execution_count": 315,
   "metadata": {},
   "outputs": [
    {
     "data": {
      "image/png": "[encoded data removed]",
      "text/plain": [
       "<Figure size 600x600 with 1 Axes>"
      ]
     },
     "metadata": {},
     "output_type": "display_data"
    }
   ],
   "source": [
    "plot_confusion_matrix(pred_labels, true_labels, [\"sadness\", \"joy\", \"love\", \"anger\"])"
   ]
  },
  {
   "cell_type": "code",
   "execution_count": 353,
   "metadata": {},
   "outputs": [
    {
     "data": {
      "text/html": [
       "<div>\n",
       "<style scoped>\n",
       "    .dataframe tbody tr th:only-of-type {\n",
       "        vertical-align: middle;\n",
       "    }\n",
       "\n",
       "    .dataframe tbody tr th {\n",
       "        vertical-align: top;\n",
       "    }\n",
       "\n",
       "    .dataframe thead th {\n",
       "        text-align: right;\n",
       "    }\n",
       "</style>\n",
       "<table border=\"1\" class=\"dataframe\">\n",
       "  <thead>\n",
       "    <tr style=\"text-align: right;\">\n",
       "      <th></th>\n",
       "      <th>username</th>\n",
       "      <th>content</th>\n",
       "      <th>content_en</th>\n",
       "      <th>posted_time</th>\n",
       "      <th>pred_label</th>\n",
       "    </tr>\n",
       "  </thead>\n",
       "  <tbody>\n",
       "    <tr>\n",
       "      <th>0</th>\n",
       "      <td>igordosus</td>\n",
       "      <td>Gente, MILAGRE!!!!\\n\\nTá rodando um BRT amarelo novo com ar condicionado, sai até voz automática igual aquela do metrô \"porta de fechando\". Parece q adicionaram uma nova linha (38) q vai só até o Fundão tbm.\\n\\nCARALHO, EU TO CHOCADO</td>\n",
       "      <td>People, MIRACLE!!!! A new yellow BRT with air conditioning is running, it even comes out with an automatic voice like the one on the subway \"closing door\". It seems that they added a new line (38) that goes only to Fundão too. FUCK, I'M SHOCKED</td>\n",
       "      <td>2023-03-01 13:09:04</td>\n",
       "      <td>surprise</td>\n",
       "    </tr>\n",
       "    <tr>\n",
       "      <th>1</th>\n",
       "      <td>diesonnenlicht</td>\n",
       "      <td>Um minuto de silêncio para apreciarmos a superioridade do BRT amarelo.</td>\n",
       "      <td>A minute of silence to appreciate the superiority of the yellow BRT.</td>\n",
       "      <td>2023-04-19 13:58:23</td>\n",
       "      <td>joy</td>\n",
       "    </tr>\n",
       "    <tr>\n",
       "      <th>2</th>\n",
       "      <td>naoculpeopedro</td>\n",
       "      <td>ele chegou\\n\\no BRT amarelo chegou na zona oeste</td>\n",
       "      <td>he arrived the yellow BRT arrived in the west zone</td>\n",
       "      <td>2023-05-02 09:14:31</td>\n",
       "      <td>joy</td>\n",
       "    </tr>\n",
       "    <tr>\n",
       "      <th>3</th>\n",
       "      <td>naoculpeopedro</td>\n",
       "      <td>como é bonito o BRT amarelo parabéns a todos</td>\n",
       "      <td>how beautiful is the yellow BRT congratulations to all</td>\n",
       "      <td>2023-03-31 20:50:18</td>\n",
       "      <td>joy</td>\n",
       "    </tr>\n",
       "    <tr>\n",
       "      <th>4</th>\n",
       "      <td>zwnetti</td>\n",
       "      <td>EU VI UM BRT AMARELO NA ESTAÇAO DE OLARIA, EU NAO TO MALUCO</td>\n",
       "      <td>I SAW A YELLOW BRT AT THE STATION OF OLARIA, I'M NOT CRAZY</td>\n",
       "      <td>2023-03-01 12:39:00</td>\n",
       "      <td>fear</td>\n",
       "    </tr>\n",
       "    <tr>\n",
       "      <th>...</th>\n",
       "      <td>...</td>\n",
       "      <td>...</td>\n",
       "      <td>...</td>\n",
       "      <td>...</td>\n",
       "      <td>...</td>\n",
       "    </tr>\n",
       "    <tr>\n",
       "      <th>231</th>\n",
       "      <td>pclages</td>\n",
       "      <td>BRT amarelo é vida, isso não vai durar, infelizmente tenho certeza.</td>\n",
       "      <td>Yellow BRT is life, it won't last, unfortunately I'm sure.</td>\n",
       "      <td>2022-09-29 17:49:15</td>\n",
       "      <td>joy</td>\n",
       "    </tr>\n",
       "    <tr>\n",
       "      <th>232</th>\n",
       "      <td>AugustoLeticya</td>\n",
       "      <td>e o BRT amarelo já está um inferno de lotado, filhas da puta</td>\n",
       "      <td>and the yellow BRT is already a hell of a lot, motherfuckers</td>\n",
       "      <td>2022-09-27 07:21:32</td>\n",
       "      <td>anger</td>\n",
       "    </tr>\n",
       "    <tr>\n",
       "      <th>234</th>\n",
       "      <td>mateusfp98</td>\n",
       "      <td>O BRT amarelo é assustadoramente feio</td>\n",
       "      <td>The yellow BRT is frighteningly ugly</td>\n",
       "      <td>2022-09-20 19:39:58</td>\n",
       "      <td>sadness</td>\n",
       "    </tr>\n",
       "    <tr>\n",
       "      <th>235</th>\n",
       "      <td>deyoldra</td>\n",
       "      <td>Amg tu vai pra lá por qual região? Pq o BRT amarelo vai ser só parque olímpico e alvorada, 22 conto, tô pensando em ir de carro e deixar no metropolitano e ir andando msm, pq se o estacionamento pernoite for 45 conto, já vale a pena pq já dá a passagem de duas pessoas</td>\n",
       "      <td>Amg you go there for which region? because the yellow BRT will only be the olympic park and dawn, 22 contos, I'm thinking of going by car and leaving it on the subway and walking anyway, because if the overnight parking is 45 contos, it's already worth it because it already gives the passage of two people</td>\n",
       "      <td>2022-09-02 11:25:54</td>\n",
       "      <td>joy</td>\n",
       "    </tr>\n",
       "    <tr>\n",
       "      <th>236</th>\n",
       "      <td>deyoldra</td>\n",
       "      <td>Alguém que vá no Rock in Rio sabe dizer se tem mesmo que comprar essa passagem cara pra caralho do BRT amarelo pra poder chegar mais lá perto???</td>\n",
       "      <td>Does anyone who goes to Rock in Rio know if you really have to buy that expensive yellow BRT ticket to get closer???</td>\n",
       "      <td>2022-09-02 10:56:51</td>\n",
       "      <td>joy</td>\n",
       "    </tr>\n",
       "  </tbody>\n",
       "</table>\n",
       "<p>149 rows × 5 columns</p>\n",
       "</div>"
      ],
      "text/plain": [
       "           username   \n",
       "0         igordosus  \\\n",
       "1    diesonnenlicht   \n",
       "2    naoculpeopedro   \n",
       "3    naoculpeopedro   \n",
       "4           zwnetti   \n",
       "..              ...   \n",
       "231         pclages   \n",
       "232  AugustoLeticya   \n",
       "234      mateusfp98   \n",
       "235        deyoldra   \n",
       "236        deyoldra   \n",
       "\n",
       "                                                                                                                                                                                                                                                                          content   \n",
       "0                                       Gente, MILAGRE!!!!\\n\\nTá rodando um BRT amarelo novo com ar condicionado, sai até voz automática igual aquela do metrô \"porta de fechando\". Parece q adicionaram uma nova linha (38) q vai só até o Fundão tbm.\\n\\nCARALHO, EU TO CHOCADO  \\\n",
       "1                                                                                                                                                                                                          Um minuto de silêncio para apreciarmos a superioridade do BRT amarelo.   \n",
       "2                                                                                                                                                                                                                                ele chegou\\n\\no BRT amarelo chegou na zona oeste   \n",
       "3                                                                                                                                                                                                                                   como é bonito o BRT amarelo parabéns a todos    \n",
       "4                                                                                                                                                                                                                     EU VI UM BRT AMARELO NA ESTAÇAO DE OLARIA, EU NAO TO MALUCO   \n",
       "..                                                                                                                                                                                                                                                                            ...   \n",
       "231                                                                                                                                                                                                           BRT amarelo é vida, isso não vai durar, infelizmente tenho certeza.   \n",
       "232                                                                                                                                                                                                                 e o BRT amarelo já está um inferno de lotado, filhas da puta    \n",
       "234                                                                                                                                                                                                                                         O BRT amarelo é assustadoramente feio   \n",
       "235  Amg tu vai pra lá por qual região? Pq o BRT amarelo vai ser só parque olímpico e alvorada, 22 conto, tô pensando em ir de carro e deixar no metropolitano e ir andando msm, pq se o estacionamento pernoite for 45 conto, já vale a pena pq já dá a passagem de duas pessoas   \n",
       "236                                                                                                                              Alguém que vá no Rock in Rio sabe dizer se tem mesmo que comprar essa passagem cara pra caralho do BRT amarelo pra poder chegar mais lá perto???   \n",
       "\n",
       "                                                                                                                                                                                                                                                                                                             content_en   \n",
       "0                                                                  People, MIRACLE!!!! A new yellow BRT with air conditioning is running, it even comes out with an automatic voice like the one on the subway \"closing door\". It seems that they added a new line (38) that goes only to Fundão too. FUCK, I'M SHOCKED  \\\n",
       "1                                                                                                                                                                                                                                                  A minute of silence to appreciate the superiority of the yellow BRT.   \n",
       "2                                                                                                                                                                                                                                                                    he arrived the yellow BRT arrived in the west zone   \n",
       "3                                                                                                                                                                                                                                                                how beautiful is the yellow BRT congratulations to all   \n",
       "4                                                                                                                                                                                                                                                            I SAW A YELLOW BRT AT THE STATION OF OLARIA, I'M NOT CRAZY   \n",
       "..                                                                                                                                                                                                                                                                                                                  ...   \n",
       "231                                                                                                                                                                                                                                                          Yellow BRT is life, it won't last, unfortunately I'm sure.   \n",
       "232                                                                                                                                                                                                                                                        and the yellow BRT is already a hell of a lot, motherfuckers   \n",
       "234                                                                                                                                                                                                                                                                                The yellow BRT is frighteningly ugly   \n",
       "235  Amg you go there for which region? because the yellow BRT will only be the olympic park and dawn, 22 contos, I'm thinking of going by car and leaving it on the subway and walking anyway, because if the overnight parking is 45 contos, it's already worth it because it already gives the passage of two people   \n",
       "236                                                                                                                                                                                                Does anyone who goes to Rock in Rio know if you really have to buy that expensive yellow BRT ticket to get closer???   \n",
       "\n",
       "            posted_time pred_label  \n",
       "0   2023-03-01 13:09:04   surprise  \n",
       "1   2023-04-19 13:58:23        joy  \n",
       "2   2023-05-02 09:14:31        joy  \n",
       "3   2023-03-31 20:50:18        joy  \n",
       "4   2023-03-01 12:39:00       fear  \n",
       "..                  ...        ...  \n",
       "231 2022-09-29 17:49:15        joy  \n",
       "232 2022-09-27 07:21:32      anger  \n",
       "234 2022-09-20 19:39:58    sadness  \n",
       "235 2022-09-02 11:25:54        joy  \n",
       "236 2022-09-02 10:56:51        joy  \n",
       "\n",
       "[149 rows x 5 columns]"
      ]
     },
     "execution_count": 353,
     "metadata": {},
     "output_type": "execute_result"
    }
   ],
   "source": [
    "tweets_df_en"
   ]
  },
  {
   "cell_type": "code",
   "execution_count": 357,
   "metadata": {},
   "outputs": [
    {
     "data": {
      "text/html": [
       "<div>\n",
       "<style scoped>\n",
       "    .dataframe tbody tr th:only-of-type {\n",
       "        vertical-align: middle;\n",
       "    }\n",
       "\n",
       "    .dataframe tbody tr th {\n",
       "        vertical-align: top;\n",
       "    }\n",
       "\n",
       "    .dataframe thead th {\n",
       "        text-align: right;\n",
       "    }\n",
       "</style>\n",
       "<table border=\"1\" class=\"dataframe\">\n",
       "  <thead>\n",
       "    <tr style=\"text-align: right;\">\n",
       "      <th></th>\n",
       "      <th>posted_time_date_time</th>\n",
       "      <th>pred_label</th>\n",
       "      <th>count</th>\n",
       "    </tr>\n",
       "  </thead>\n",
       "  <tbody>\n",
       "    <tr>\n",
       "      <th>0</th>\n",
       "      <td>2022-09-04</td>\n",
       "      <td>joy</td>\n",
       "      <td>2</td>\n",
       "    </tr>\n",
       "    <tr>\n",
       "      <th>1</th>\n",
       "      <td>2022-09-25</td>\n",
       "      <td>sadness</td>\n",
       "      <td>2</td>\n",
       "    </tr>\n",
       "    <tr>\n",
       "      <th>2</th>\n",
       "      <td>2022-10-02</td>\n",
       "      <td>anger</td>\n",
       "      <td>2</td>\n",
       "    </tr>\n",
       "    <tr>\n",
       "      <th>3</th>\n",
       "      <td>2022-10-02</td>\n",
       "      <td>joy</td>\n",
       "      <td>1</td>\n",
       "    </tr>\n",
       "    <tr>\n",
       "      <th>4</th>\n",
       "      <td>2022-10-02</td>\n",
       "      <td>sadness</td>\n",
       "      <td>1</td>\n",
       "    </tr>\n",
       "    <tr>\n",
       "      <th>...</th>\n",
       "      <td>...</td>\n",
       "      <td>...</td>\n",
       "      <td>...</td>\n",
       "    </tr>\n",
       "    <tr>\n",
       "      <th>58</th>\n",
       "      <td>2023-05-21</td>\n",
       "      <td>sadness</td>\n",
       "      <td>1</td>\n",
       "    </tr>\n",
       "    <tr>\n",
       "      <th>59</th>\n",
       "      <td>2023-05-28</td>\n",
       "      <td>joy</td>\n",
       "      <td>2</td>\n",
       "    </tr>\n",
       "    <tr>\n",
       "      <th>60</th>\n",
       "      <td>2023-06-04</td>\n",
       "      <td>anger</td>\n",
       "      <td>1</td>\n",
       "    </tr>\n",
       "    <tr>\n",
       "      <th>61</th>\n",
       "      <td>2023-06-11</td>\n",
       "      <td>joy</td>\n",
       "      <td>1</td>\n",
       "    </tr>\n",
       "    <tr>\n",
       "      <th>62</th>\n",
       "      <td>2023-06-18</td>\n",
       "      <td>joy</td>\n",
       "      <td>1</td>\n",
       "    </tr>\n",
       "  </tbody>\n",
       "</table>\n",
       "<p>63 rows × 3 columns</p>\n",
       "</div>"
      ],
      "text/plain": [
       "   posted_time_date_time pred_label  count\n",
       "0             2022-09-04        joy      2\n",
       "1             2022-09-25    sadness      2\n",
       "2             2022-10-02      anger      2\n",
       "3             2022-10-02        joy      1\n",
       "4             2022-10-02    sadness      1\n",
       "..                   ...        ...    ...\n",
       "58            2023-05-21    sadness      1\n",
       "59            2023-05-28        joy      2\n",
       "60            2023-06-04      anger      1\n",
       "61            2023-06-11        joy      1\n",
       "62            2023-06-18        joy      1\n",
       "\n",
       "[63 rows x 3 columns]"
      ]
     },
     "execution_count": 357,
     "metadata": {},
     "output_type": "execute_result"
    }
   ],
   "source": [
    "tweets_df_en[\"posted_time_date_time\"] = pd.to_datetime(tweets_df_en[\"posted_time\"])\n",
    "\n",
    "grouped_df = tweets_df_en.groupby([pd.Grouper(key=\"posted_time_date_time\", freq=\"W\"), \"pred_label\"]).size().reset_index(name=\"count\")\n",
    "\n",
    "grouped_df"
   ]
  },
  {
   "cell_type": "code",
   "execution_count": 358,
   "metadata": {},
   "outputs": [
    {
     "data": {
      "image/png": "[encoded data removed]",
      "text/plain": [
       "<Figure size 640x480 with 1 Axes>"
      ]
     },
     "metadata": {},
     "output_type": "display_data"
    }
   ],
   "source": [
    "grouped_df['posted_time_date_time'] = pd.to_datetime(grouped_df['posted_time_date_time'])\n",
    "grouped_df = grouped_df.groupby(['posted_time_date_time', 'pred_label'])['count'].sum().unstack()\n",
    "\n",
    "grouped_df.plot(kind='bar', stacked=True)\n",
    "\n",
    "plt.xlabel('Date')\n",
    "plt.ylabel('Count')\n",
    "plt.title('Tweets by week')\n",
    "\n",
    "plt.show()"
   ]
  },
  {
   "attachments": {},
   "cell_type": "markdown",
   "metadata": {},
   "source": [
    "Prefeitura do Rio entregou 110 onibus na semana do dia 03-05\n",
    "\n",
    "https://www.eduardopaes.com.br/paes-entrega-mais-110-novos-onibus-do-brt-transcarioca-tem-frota-100-renovada/"
   ]
  }
 ],
 "metadata": {
  "kernelspec": {
   "display_name": "Python 3.9.6 64-bit",
   "language": "python",
   "name": "python3"
  },
  "language_info": {
   "codemirror_mode": {
    "name": "ipython",
    "version": 3
   },
   "file_extension": ".py",
   "mimetype": "text/x-python",
   "name": "python",
   "nbconvert_exporter": "python",
   "pygments_lexer": "ipython3",
   "version": "3.9.6"
  },
  "orig_nbformat": 4,
  "vscode": {
   "interpreter": {
    "hash": "31f2aee4e71d21fbe5cf8b01ff0e069b9275f58929596ceb00d14d90e3e16cd6"
   }
  }
 },
 "nbformat": 4,
 "nbformat_minor": 2
}
